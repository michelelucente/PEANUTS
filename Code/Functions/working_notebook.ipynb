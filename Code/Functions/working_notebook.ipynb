{
 "cells": [
  {
   "cell_type": "markdown",
   "id": "cf7e3603",
   "metadata": {},
   "source": [
    "# Define paths"
   ]
  },
  {
   "cell_type": "code",
   "execution_count": 228,
   "id": "f00195d0",
   "metadata": {},
   "outputs": [],
   "source": [
    "from pathlib import Path\n",
    "\n",
    "project_folder = str(Path(Path.cwd()).parents[1])\n",
    "\n",
    "plots_folder = project_folder + \"/TeX/figs/\""
   ]
  },
  {
   "cell_type": "markdown",
   "id": "f36366f5",
   "metadata": {},
   "source": [
    "# Import solar model"
   ]
  },
  {
   "cell_type": "code",
   "execution_count": 2,
   "id": "c8fb3dc2",
   "metadata": {},
   "outputs": [
    {
     "data": {
      "text/html": [
       "<div>\n",
       "<style scoped>\n",
       "    .dataframe tbody tr th:only-of-type {\n",
       "        vertical-align: middle;\n",
       "    }\n",
       "\n",
       "    .dataframe tbody tr th {\n",
       "        vertical-align: top;\n",
       "    }\n",
       "\n",
       "    .dataframe thead th {\n",
       "        text-align: right;\n",
       "    }\n",
       "</style>\n",
       "<table border=\"1\" class=\"dataframe\">\n",
       "  <thead>\n",
       "    <tr style=\"text-align: right;\">\n",
       "      <th></th>\n",
       "      <th>radius</th>\n",
       "      <th>density_log_10</th>\n",
       "      <th>8B fraction</th>\n",
       "      <th>hep fraction</th>\n",
       "      <th>density</th>\n",
       "    </tr>\n",
       "  </thead>\n",
       "  <tbody>\n",
       "    <tr>\n",
       "      <th>0</th>\n",
       "      <td>0.00041</td>\n",
       "      <td>2.011</td>\n",
       "      <td>0.000005</td>\n",
       "      <td>1.661000e-07</td>\n",
       "      <td>102.565193</td>\n",
       "    </tr>\n",
       "    <tr>\n",
       "      <th>1</th>\n",
       "      <td>0.00082</td>\n",
       "      <td>2.011</td>\n",
       "      <td>0.000014</td>\n",
       "      <td>4.865000e-07</td>\n",
       "      <td>102.565193</td>\n",
       "    </tr>\n",
       "    <tr>\n",
       "      <th>2</th>\n",
       "      <td>0.00123</td>\n",
       "      <td>2.011</td>\n",
       "      <td>0.000023</td>\n",
       "      <td>8.074000e-07</td>\n",
       "      <td>102.565193</td>\n",
       "    </tr>\n",
       "    <tr>\n",
       "      <th>3</th>\n",
       "      <td>0.00164</td>\n",
       "      <td>2.011</td>\n",
       "      <td>0.000035</td>\n",
       "      <td>1.245000e-06</td>\n",
       "      <td>102.565193</td>\n",
       "    </tr>\n",
       "    <tr>\n",
       "      <th>4</th>\n",
       "      <td>0.00205</td>\n",
       "      <td>2.011</td>\n",
       "      <td>0.000053</td>\n",
       "      <td>1.857000e-06</td>\n",
       "      <td>102.565193</td>\n",
       "    </tr>\n",
       "    <tr>\n",
       "      <th>...</th>\n",
       "      <td>...</td>\n",
       "      <td>...</td>\n",
       "      <td>...</td>\n",
       "      <td>...</td>\n",
       "      <td>...</td>\n",
       "    </tr>\n",
       "    <tr>\n",
       "      <th>1214</th>\n",
       "      <td>0.49795</td>\n",
       "      <td>0.071</td>\n",
       "      <td>0.000000</td>\n",
       "      <td>2.902000e-10</td>\n",
       "      <td>1.177606</td>\n",
       "    </tr>\n",
       "    <tr>\n",
       "      <th>1215</th>\n",
       "      <td>0.49836</td>\n",
       "      <td>0.069</td>\n",
       "      <td>0.000000</td>\n",
       "      <td>2.843000e-10</td>\n",
       "      <td>1.172195</td>\n",
       "    </tr>\n",
       "    <tr>\n",
       "      <th>1216</th>\n",
       "      <td>0.49877</td>\n",
       "      <td>0.067</td>\n",
       "      <td>0.000000</td>\n",
       "      <td>2.785000e-10</td>\n",
       "      <td>1.166810</td>\n",
       "    </tr>\n",
       "    <tr>\n",
       "      <th>1217</th>\n",
       "      <td>0.49918</td>\n",
       "      <td>0.065</td>\n",
       "      <td>0.000000</td>\n",
       "      <td>2.728000e-10</td>\n",
       "      <td>1.161449</td>\n",
       "    </tr>\n",
       "    <tr>\n",
       "      <th>1218</th>\n",
       "      <td>0.49959</td>\n",
       "      <td>0.063</td>\n",
       "      <td>0.000000</td>\n",
       "      <td>2.672000e-10</td>\n",
       "      <td>1.156112</td>\n",
       "    </tr>\n",
       "  </tbody>\n",
       "</table>\n",
       "<p>1219 rows × 5 columns</p>\n",
       "</div>"
      ],
      "text/plain": [
       "       radius  density_log_10  8B fraction  hep fraction     density\n",
       "0     0.00041           2.011     0.000005  1.661000e-07  102.565193\n",
       "1     0.00082           2.011     0.000014  4.865000e-07  102.565193\n",
       "2     0.00123           2.011     0.000023  8.074000e-07  102.565193\n",
       "3     0.00164           2.011     0.000035  1.245000e-06  102.565193\n",
       "4     0.00205           2.011     0.000053  1.857000e-06  102.565193\n",
       "...       ...             ...          ...           ...         ...\n",
       "1214  0.49795           0.071     0.000000  2.902000e-10    1.177606\n",
       "1215  0.49836           0.069     0.000000  2.843000e-10    1.172195\n",
       "1216  0.49877           0.067     0.000000  2.785000e-10    1.166810\n",
       "1217  0.49918           0.065     0.000000  2.728000e-10    1.161449\n",
       "1218  0.49959           0.063     0.000000  2.672000e-10    1.156112\n",
       "\n",
       "[1219 rows x 5 columns]"
      ]
     },
     "execution_count": 2,
     "metadata": {},
     "output_type": "execute_result"
    }
   ],
   "source": [
    "import pandas as pd\n",
    "import matplotlib.pyplot as plt\n",
    "\n",
    "solar_model = pd.read_csv(\"./Data/bs2005agsopflux.csv\", \n",
    "                          usecols=[1, 3, 7, 13],\n",
    "                          names = ['radius', 'density_log_10', '8B fraction', 'hep fraction'],\n",
    "                          sep=\" \", skiprows=27, header=None)\n",
    "\n",
    "solar_model['density'] = 10**solar_model['density_log_10']\n",
    "solar_model"
   ]
  },
  {
   "cell_type": "code",
   "execution_count": 3,
   "id": "386d9433",
   "metadata": {},
   "outputs": [
    {
     "data": {
      "text/plain": [
       "<AxesSubplot:xlabel='r', ylabel='$n_e(r)$ [mol/cm${}^3$]'>"
      ]
     },
     "execution_count": 3,
     "metadata": {},
     "output_type": "execute_result"
    },
    {
     "data": {
      "image/png": "[encoded data removed]",
      "text/plain": [
       "<Figure size 432x288 with 1 Axes>"
      ]
     },
     "metadata": {
      "needs_background": "light"
     },
     "output_type": "display_data"
    }
   ],
   "source": [
    "plot = solar_model.plot(x='radius', y='density', logy=True)\n",
    "plot.set_xlabel(\"r\")\n",
    "plot.set_ylabel(\"$n_e(r)$ [mol/cm${}^3$]\")\n",
    "plot.legend(labels=['Solar electron density'])\n",
    "\n",
    "plt.savefig(plots_folder + \"sun_density.pdf\")\n",
    "\n",
    "plot"
   ]
  },
  {
   "cell_type": "markdown",
   "id": "e2fc4ef1",
   "metadata": {},
   "source": [
    "# Compute solar neutrino survival probability at Sun surface"
   ]
  },
  {
   "cell_type": "code",
   "execution_count": 4,
   "id": "bee60d2a",
   "metadata": {},
   "outputs": [],
   "source": [
    "def Vk(Deltam2, E, ne):\n",
    "    \"\"\"Vk(Deltam2, E, ne) computes the ratio V/k between the matter and vacuum terms in neutrino oscillations.\n",
    "    - Deltam2 is the squared mass difference, in units of eV^2;\n",
    "    - E is the neutrino energy, in units of MeV;\n",
    "    - ne is the electron matter density, in units of mol/cm^3;\n",
    "See also Eq.s 4.17, 4.18 in 1802.05781.\"\"\"\n",
    "    return (3.868e-7)/(2.533) * (ne / (Deltam2 / E))"
   ]
  },
  {
   "cell_type": "code",
   "execution_count": 5,
   "id": "1a2a7dd1",
   "metadata": {},
   "outputs": [],
   "source": [
    "from numpy import cos, sin, arcsin, tan, arctan, pi\n",
    "\n",
    "def th12_M (th12, th13, DeltamSq21, E, ne):\n",
    "    \"\"\"th12_M(th12, th13, DeltamSq21, E, ne) computes the mixing angle \\theta_{12} in matter.\n",
    "    - th1j are the vacuum mixing angles in radians;\n",
    "    - DeltamSq21 is the vacuum squared mass difference between mass eigenstates 2 and 1;\n",
    "    - E is the neutrino energy, in units of MeV;\n",
    "    - ne is the electron matter density, in units of mol/cm^3.\n",
    "See also Eq. 1.22 in FiuzadeBarros:2011qna.\"\"\"\n",
    "    return (arctan(tan(2*th12) / (1 - (cos(th13)**2)/(cos(2* th12)) * Vk(DeltamSq21, E, ne))) / 2) % (pi/2)\n",
    "\n",
    "\n",
    "def th13_M (th13, DeltamSq31, E, ne):\n",
    "    \"\"\"th13_M(th13, DeltamSq31, E, ne) computes the mixing angle \\theta_{13} in matter.\n",
    "    - th13 is the vacuum mixing angles \\theta_{13} in radians;\n",
    "    - DeltamSq31 is the vacuum squared mass difference between mass eigenstates 3 and 1;\n",
    "    - E is the neutrino energy, in units of MeV;\n",
    "    - ne is the electron matter density, in units of mol/cm^3.\n",
    "See also Eq. 1.22 in FiuzadeBarros:2011qna.\"\"\"\n",
    "    return (arcsin(sin(th13) * (1 + Vk(DeltamSq31, E, ne) * cos(th13)**2))) % (pi/2)"
   ]
  },
  {
   "cell_type": "code",
   "execution_count": 6,
   "id": "46e2ea5a",
   "metadata": {},
   "outputs": [],
   "source": [
    "def Pnuenue (th12, th13, DeltamSq21, DeltamSq31, E, ne):\n",
    "    \"\"\"Pnuenue(th12, th13, DeltamSq21, DeltamSq31, E, ne) computes the survival probability of an electron neutrino\n",
    "    neutrino at the Sun surface in the adiabatic approximation, as a function of vacuum oscillation parameters.\n",
    "    - th1j are the vacuum mixing angles in radians;\n",
    "    - DeltamSqj1 are the vacuum squared mass difference between mass eigenstates 2 and 1;\n",
    "    - E is the neutrino energy, in units of MeV;\n",
    "    - ne is the electron matter density at neutrino production point, in units of mol/cm^3.\n",
    "See also Eq. 6.14 in FiuzadeBarros:2011qna.\"\"\"\n",
    "    th12m = th12_M(th12, th13, DeltamSq21, E, ne)\n",
    "    th13m = th13_M(th13, DeltamSq31, E, ne)\n",
    "    return cos(th13)**2 * cos(th13m)**2 * (cos(th12)**2 * cos(th12m)**2 + sin(th12)**2 * sin(th12m)**2) + sin(th13)**2 * sin(th13m)**2"
   ]
  },
  {
   "cell_type": "code",
   "execution_count": 7,
   "id": "d20f1a22",
   "metadata": {},
   "outputs": [
    {
     "data": {
      "text/plain": [
       "<AxesSubplot:xlabel='r', ylabel='Neutrino fraction'>"
      ]
     },
     "execution_count": 7,
     "metadata": {},
     "output_type": "execute_result"
    },
    {
     "data": {
      "image/png": "[encoded data removed]",
      "text/plain": [
       "<Figure size 432x288 with 1 Axes>"
      ]
     },
     "metadata": {
      "needs_background": "light"
     },
     "output_type": "display_data"
    }
   ],
   "source": [
    "plot = solar_model.plot(x='radius', y=['8B fraction', 'hep fraction'])\n",
    "plot.set_xlabel('r')\n",
    "plot.set_ylabel('Neutrino fraction')\n",
    "plot.legend(labels=['${}^8$B reaction', 'hep reaction'])\n",
    "\n",
    "plt.savefig(plots_folder + \"reaction_fraction.pdf\")\n",
    "\n",
    "plot"
   ]
  },
  {
   "cell_type": "code",
   "execution_count": 8,
   "id": "88af160a",
   "metadata": {},
   "outputs": [],
   "source": [
    "from scipy import integrate\n",
    "import numpy as np\n",
    "\n",
    "def PnuenueReaction (th12, th13, DeltamSq21, DeltamSq31, E, radius_samples, density, fraction):\n",
    "    \"\"\"PnuenueReaction (th12, th13, DeltamSq21, DeltamSq31, E, radius_samples, density, fraction) computes the\n",
    "    survival probability at Sun surface for an electron with energy E produced in a specific reaction.\n",
    "    - th1j are the vacuum mixing angles in radians;\n",
    "    - DeltamSqj1 are the vacuum squared mass difference between mass eigenstates 2 and 1;\n",
    "    - E is the neutrino energy, in units of MeV;\n",
    "    - radius_samples is a list of solar relative radius values where density and fraction are sampled;\n",
    "    - density is the list of electron densities at radii radius_samples, in units of mol/cm^3;\n",
    "    - fraction is the relative fraction of neutrinos produced in the considered reaction, sampled at radius_samples.\"\"\"\n",
    "    \n",
    "    IntegratedFraction = integrate.trapezoid(y=fraction, x=radius_samples)\n",
    "    PnuenueRadius = np.array([Pnuenue(th12, th13, DeltamSq21, DeltamSq31, E, ne_r) for ne_r in density])\n",
    "    \n",
    "    return integrate.trapezoid(y=(PnuenueRadius * fraction), x = radius_samples) / IntegratedFraction"
   ]
  },
  {
   "cell_type": "code",
   "execution_count": 9,
   "id": "75631994",
   "metadata": {},
   "outputs": [],
   "source": [
    "from math import sqrt\n",
    "\n",
    "th12 = arctan(sqrt(0.469))\n",
    "th13 = arcsin(sqrt(0.01))\n",
    "DeltamSq21 = 7.9e-5\n",
    "DeltamSq31 = 2.46e-3\n",
    "E = 10\n",
    "ne = 100\n",
    "radius_samples = solar_model.radius\n",
    "density = solar_model.density\n",
    "fraction = solar_model['8B fraction']\n",
    "\n",
    "xrange = np.arange(1,20,0.1)\n",
    "ProbB8 = [PnuenueReaction(th12, th13, DeltamSq21, DeltamSq31, E, radius_samples, density, solar_model['8B fraction']) for E in xrange]\n",
    "Probhep = [PnuenueReaction(th12, th13, DeltamSq21, DeltamSq31, E, radius_samples, density, solar_model['hep fraction']) for E in xrange]"
   ]
  },
  {
   "cell_type": "code",
   "execution_count": 10,
   "id": "c7e224ee",
   "metadata": {},
   "outputs": [],
   "source": [
    "SNO_B8 = pd.read_csv(\"./Data/B8.csv\", names=['energy', 'Pnuenue'])\n",
    "SNO_hep = pd.read_csv(\"./Data/hep.csv\", names=['energy', 'Pnuenue'])"
   ]
  },
  {
   "cell_type": "code",
   "execution_count": 11,
   "id": "3fc1688b",
   "metadata": {},
   "outputs": [
    {
     "data": {
      "image/png": "[encoded data removed]",
      "text/plain": [
       "<Figure size 432x288 with 1 Axes>"
      ]
     },
     "metadata": {
      "needs_background": "light"
     },
     "output_type": "display_data"
    }
   ],
   "source": [
    "plt.plot(xrange, ProbB8, label=\"This code\")\n",
    "plt.plot(SNO_B8.energy, SNO_B8.Pnuenue, label='SNO_example')\n",
    "plt.title(\"${}^8$B neutrinos\")\n",
    "plt.xlabel('Energy [MeV]')\n",
    "plt.ylabel(r\"$P_{\\nu_e \\rightarrow \\nu_e}$\")\n",
    "plt.legend()\n",
    "plt.savefig(plots_folder + \"8B_SNO_cmparison.pdf\")\n",
    "\n",
    "plt.show()"
   ]
  },
  {
   "cell_type": "code",
   "execution_count": 12,
   "id": "acebae0b",
   "metadata": {},
   "outputs": [
    {
     "data": {
      "image/png": "[encoded data removed]",
      "text/plain": [
       "<Figure size 432x288 with 1 Axes>"
      ]
     },
     "metadata": {
      "needs_background": "light"
     },
     "output_type": "display_data"
    }
   ],
   "source": [
    "plt.plot(xrange, Probhep, label=\"This code\")\n",
    "plt.plot(SNO_hep.energy, SNO_hep.Pnuenue, label='SNO_example')\n",
    "plt.title(\"hep neutrinos\")\n",
    "plt.xlabel('Energy [MeV]')\n",
    "plt.ylabel(r\"$P_{\\nu_e \\rightarrow \\nu_e}$\")\n",
    "plt.legend()\n",
    "plt.savefig(plots_folder + \"hep_SNO_comparison.pdf\")\n",
    "\n",
    "plt.show()"
   ]
  },
  {
   "cell_type": "markdown",
   "id": "7925295b",
   "metadata": {},
   "source": [
    "# Earth regeneration"
   ]
  },
  {
   "cell_type": "markdown",
   "id": "08f71a0e",
   "metadata": {},
   "source": [
    "### It is not necessary to define a new function for undergroud detector:\n",
    "- for $0 \\leq \\eta \\leq \\pi/2$: use total path for first half of propagation, then stop at $r_{det} = 1 - h$ for second half;\n",
    "- for $\\pi/2 \\leq \\eta \\leq \\pi$: just use downstream path (with constant density? The density variation is at most $10^{-4}$ for SNO)"
   ]
  },
  {
   "cell_type": "code",
   "execution_count": 86,
   "id": "b7080a70",
   "metadata": {},
   "outputs": [],
   "source": [
    "import numpy as np\n",
    "from math import sin, cos, sqrt\n",
    "\n",
    "def EarthDensity (x = 0, eta = 0, integrated = False): \n",
    "    \"\"\"EarthDensity(x, eta, integrated) computes:\n",
    "    - if integrated = False: the value of Earth electron density in units of mol/cm^3 for trajectory coordinate \n",
    "    x and nadir angle eta;\n",
    "    -if integrated = True: two lists containing the values of the integrated electron \n",
    "    densities along each shell crossed by a path with nadir angle eta, to be inputed in \n",
    "    the 1st and 2nd order terms in the evolutor Magnus expansion.\n",
    "See hep-ph/9702343 for the definition of trajectory coordinate.\"\"\"\n",
    "    \n",
    "    # If x > cos(eta) the trajectory coordinate is beyond Earth surface, thus density is zero.\n",
    "    if ((~integrated) & (x > cos(eta))):\n",
    "        return 0\n",
    "    else:\n",
    "        # Define the Earth density parametrisation, in units of mol/cm^3, following hep-ph/9702343\n",
    "        alpha = np.array([6.099, 5.803, 3.156, -5.376, 11.540])\n",
    "        beta = np.array([-4.119, -3.653, -1.459, 19.210, -20.280])\n",
    "        gamma = np.array([0, -1.086, 0.280, -12.520, 10.410])\n",
    "\n",
    "        rj = np.array([0.192, 0.546, 0.895, 0.937, 1])\n",
    "\n",
    "        # Select the index \"idx_shells\" in rj such that for i >= idx_shells => rj[i] > sin(eta)\n",
    "        # The shells having rj[i] > sin(eta) are the ones crossed by a path with nadir angle = eta\n",
    "        idx_shells = np.searchsorted(rj, sin(eta))\n",
    "        \n",
    "        # Keep only the parameters for the shells crossed by the path with nadir angle eta\n",
    "        alpha_prime = alpha[idx_shells::] + beta[idx_shells::] * sin(eta)**2 + gamma[idx_shells::] * sin(eta)**4\n",
    "        beta_prime = beta[idx_shells::] + 2 * gamma[idx_shells::] * sin(eta)**2\n",
    "        gamma_prime = gamma[idx_shells::]\n",
    "\n",
    "        # Compute the value of the trajectory coordinates xj at each shell crossing\n",
    "        xj = np.sqrt( (rj[idx_shells::])**2 - sin(eta)**2 )\n",
    "\n",
    "        # The index \"idx\" determines within which shell xj[idx] the point x is\n",
    "        idx = np.searchsorted(xj, x)\n",
    "        \n",
    "        # If integrated = true, the function returns the values of the integrated electron densities for the\n",
    "        # path along each crossed shell\n",
    "        if integrated:\n",
    "            # Define xj_zero, a list containing the values of trajectory coordinates for each shell boundary\n",
    "            # (including the lower end x = 0), user to perform integration on each shell\n",
    "            xj_zero = np.insert(xj, 0, 0)\n",
    "            \n",
    "            # Return the value of the integrated densities along each crossed shell\n",
    "            return [\n",
    "                [(xj_zero[i+1] - xj_zero[i]) for i in range(len(alpha_prime))],\n",
    "                [(alpha_prime[i] * (xj_zero[i+1] - xj_zero[i]) + beta_prime[i] * (xj_zero[i+1]**3 - xj_zero[i]**3) / 3 + gamma_prime[i] * (xj_zero[i+1]**5 - xj_zero[i]**5) / 5) for i in range(len(alpha_prime))],\n",
    "                [( (xj_zero[i+1] - xj_zero[i])**3 * (xj_zero[i+1] + xj_zero[i]) * (5 * beta_prime[i] + 2 * gamma_prime[i] * (2 * xj_zero[i]**2 + 2 * xj_zero[i+1]**2 + xj_zero[i]*xj_zero[i+1])) / 30) for i in range(len(alpha_prime))]\n",
    "            ]\n",
    "       \n",
    "        # If integrated = False, return the value of electron density at trajectory point x for nadir angle eta\n",
    "        else:\n",
    "            return alpha_prime[idx] + beta_prime[idx] * x**2 + gamma_prime[idx] * x**4"
   ]
  },
  {
   "cell_type": "code",
   "execution_count": 87,
   "id": "72705656",
   "metadata": {
    "scrolled": true
   },
   "outputs": [
    {
     "ename": "NameError",
     "evalue": "name 'plots_folder' is not defined",
     "output_type": "error",
     "traceback": [
      "\u001b[0;31m---------------------------------------------------------------------------\u001b[0m",
      "\u001b[0;31mNameError\u001b[0m                                 Traceback (most recent call last)",
      "\u001b[0;32m/var/folders/lb/f0pnqkh91b5g15x3kkp3lzf80000gn/T/ipykernel_1517/1743336915.py\u001b[0m in \u001b[0;36m<module>\u001b[0;34m\u001b[0m\n\u001b[1;32m     13\u001b[0m     \u001b[0mplt\u001b[0m\u001b[0;34m.\u001b[0m\u001b[0mplot\u001b[0m\u001b[0;34m(\u001b[0m\u001b[0mx\u001b[0m\u001b[0;34m,\u001b[0m\u001b[0mdensity\u001b[0m\u001b[0;34m[\u001b[0m\u001b[0mi\u001b[0m\u001b[0;34m]\u001b[0m\u001b[0;34m,\u001b[0m \u001b[0mlabel\u001b[0m \u001b[0;34m=\u001b[0m \u001b[0;34m\"$\\eta$ = %s\"\u001b[0m \u001b[0;34m%\u001b[0m\u001b[0mlabels\u001b[0m\u001b[0;34m[\u001b[0m\u001b[0mi\u001b[0m\u001b[0;34m]\u001b[0m\u001b[0;34m)\u001b[0m\u001b[0;34m\u001b[0m\u001b[0;34m\u001b[0m\u001b[0m\n\u001b[1;32m     14\u001b[0m \u001b[0mplt\u001b[0m\u001b[0;34m.\u001b[0m\u001b[0mlegend\u001b[0m\u001b[0;34m(\u001b[0m\u001b[0;34m)\u001b[0m\u001b[0;34m\u001b[0m\u001b[0;34m\u001b[0m\u001b[0m\n\u001b[0;32m---> 15\u001b[0;31m \u001b[0mplt\u001b[0m\u001b[0;34m.\u001b[0m\u001b[0msavefig\u001b[0m\u001b[0;34m(\u001b[0m\u001b[0mplots_folder\u001b[0m \u001b[0;34m+\u001b[0m \u001b[0;34m\"earth_density.pdf\"\u001b[0m\u001b[0;34m)\u001b[0m\u001b[0;34m\u001b[0m\u001b[0;34m\u001b[0m\u001b[0m\n\u001b[0m\u001b[1;32m     16\u001b[0m \u001b[0;34m\u001b[0m\u001b[0m\n\u001b[1;32m     17\u001b[0m \u001b[0mplt\u001b[0m\u001b[0;34m.\u001b[0m\u001b[0mshow\u001b[0m\u001b[0;34m(\u001b[0m\u001b[0;34m)\u001b[0m\u001b[0;34m\u001b[0m\u001b[0;34m\u001b[0m\u001b[0m\n",
      "\u001b[0;31mNameError\u001b[0m: name 'plots_folder' is not defined"
     ]
    },
    {
     "data": {
      "image/png": "[encoded data removed]",
      "text/plain": [
       "<Figure size 432x288 with 1 Axes>"
      ]
     },
     "metadata": {
      "needs_background": "light"
     },
     "output_type": "display_data"
    }
   ],
   "source": [
    "import matplotlib.pyplot as plt\n",
    "from math import pi\n",
    "\n",
    "x = np.arange(0,1,0.001)\n",
    "eta = [0, pi/6, pi/4, pi/3]\n",
    "labels = [\"0\", \"pi/6\", \"pi/4\", \"pi/3\"]\n",
    "\n",
    "density = [ [EarthDensity(r, n) for r in x] for n in eta]\n",
    "\n",
    "plt.xlabel(\"Nadir angle $\\eta$\")\n",
    "plt.ylabel(\"Density [mol/cm${}^3$]\")\n",
    "for i in range(len(density)):\n",
    "    plt.plot(x,density[i], label = \"$\\eta$ = %s\" %labels[i])\n",
    "plt.legend()\n",
    "plt.savefig(plots_folder + \"earth_density.pdf\")\n",
    "    \n",
    "plt.show()"
   ]
  },
  {
   "cell_type": "code",
   "execution_count": 25,
   "id": "2dd6f22c",
   "metadata": {},
   "outputs": [
    {
     "data": {
      "text/plain": [
       "0.00010027377254072573"
      ]
     },
     "execution_count": 25,
     "metadata": {},
     "output_type": "execute_result"
    }
   ],
   "source": [
    "h = 2 / 6.371e3\n",
    "\n",
    "(EarthDensity(1) - EarthDensity(1-h))/(EarthDensity(1) + EarthDensity(1-h))"
   ]
  },
  {
   "cell_type": "code",
   "execution_count": 196,
   "id": "3d119822",
   "metadata": {},
   "outputs": [],
   "source": [
    "DeltamSq21 = 7.42e-5\n",
    "DeltamSq31 = 2.514e-3\n",
    "E = 10\n",
    "[th12, th13, th23, d] = [0.583638, 0.149575, 0.855211, 3.40339]\n",
    "eta = 0\n",
    "\n",
    "from math import sin, cos\n",
    "from cmath import exp\n",
    "from scipy.linalg import expm\n",
    "from numpy.linalg import multi_dot\n",
    "\n",
    "R_E = 6.371e6 # meters\n",
    "\n",
    "def R23(th):\n",
    "    return np.matrix([\n",
    "        [1, 0, 0],\n",
    "        [0, cos(th), sin(th)],\n",
    "        [0, -sin(th), cos(th)]\n",
    "    ])\n",
    "\n",
    "def R13(th):\n",
    "    return np.matrix([\n",
    "        [cos(th), 0, sin(th)],\n",
    "        [0, 1, 0],\n",
    "        [-sin(th), 0, cos(th)]\n",
    "    ])\n",
    "\n",
    "def R12(th):\n",
    "    return np.matrix([\n",
    "        [cos(th), sin(th), 0],\n",
    "        [-sin(th), cos(th), 0],\n",
    "        [0, 0, 1]\n",
    "    ])\n",
    "\n",
    "def Delta(d):\n",
    "    return np.matrix([\n",
    "        [1, 0, 0],\n",
    "        [0, 1, 0],\n",
    "        [0, 0, exp(1j*d)]\n",
    "    ])\n",
    "\n",
    "\n",
    "[k1, k2, k3] = 2.533 * np.array([0, DeltamSq21, DeltamSq31]) / E\n",
    "\n",
    "r13 = R13(th13)\n",
    "r12 = R12(th12)\n",
    "r23 = R23(th23)\n",
    "delta = Delta(d)\n",
    "\n",
    "pmns = multi_dot([r23, delta, r13, delta.conjugate(), r12])\n",
    "\n",
    "k = np.matrix(np.diag([k1, k2, k3]))\n",
    "\n",
    "H0 = r13 * r12 * k * r12.transpose() * r13.transpose()\n",
    "\n",
    "H2_12 = (k2 - k1) * cos(th12) * cos(th13) * sin(th12)\n",
    "H2_13 = sin(th13) * cos(th13) * ((k2 - k1) * (2 * cos(th12)**2 - 1) + 2 * k3 - k1 - k2) / 2\n",
    "H2 = np.array([\n",
    "    [0, H2_12, H2_13],\n",
    "    [-H2_12, 0, 0],\n",
    "    [-H2_13, 0, 0]\n",
    "])\n",
    "\n",
    "ME_density = EarthDensity(eta=eta, integrated=True)\n",
    "\n",
    "# Need to understand if R_E or R_E^2 in ME2!\n",
    "ME1 = [- 1j * R_E * (H0 * ME_density[0][shell] + np.diag([3.868e-7 * (ME_density[1][shell]), 0, 0]) ) for shell in range(len(ME_density[0]))]\n",
    "ME2 = [- np.matrix(R_E**1 * H2 * 3.868e-7 * (ME_density[2][shell]) / 2) for shell in range(len(ME_density[0]))]\n",
    "\n",
    "ME12 = [expm(ME1[i] + ME2[i]) for i in reversed(range(len(ME1)))]\n",
    "\n",
    "evolutor_half = multi_dot(ME12)\n",
    "\n",
    "evolutor = multi_dot([r23, delta.conjugate(), evolutor_half.transpose(), evolutor_half, delta, r23.transpose()])\n",
    "\n",
    "probabilities = np.square(np.abs(evolutor * pmns[:,1]))"
   ]
  },
  {
   "cell_type": "code",
   "execution_count": 197,
   "id": "363b6b7e",
   "metadata": {},
   "outputs": [
    {
     "data": {
      "text/plain": [
       "matrix([[0.28859878],\n",
       "        [0.40303745],\n",
       "        [0.30836377]])"
      ]
     },
     "execution_count": 197,
     "metadata": {},
     "output_type": "execute_result"
    }
   ],
   "source": [
    "probabilities"
   ]
  },
  {
   "cell_type": "code",
   "execution_count": 185,
   "id": "a34546c8",
   "metadata": {},
   "outputs": [
    {
     "data": {
      "text/plain": [
       "matrix([[ 0.82514621+0.00000000e+00j,  0.54491046+0.00000000e+00j,\n",
       "         -0.14394031+3.85683745e-02j],\n",
       "        [-0.27087988+2.42894885e-02j,  0.60732118+1.60403043e-02j,\n",
       "          0.74628265-2.09473927e-17j],\n",
       "        [ 0.49469387+2.11145445e-02j, -0.57773857+1.39436332e-02j,\n",
       "          0.64873405-1.82093030e-17j]])"
      ]
     },
     "execution_count": 185,
     "metadata": {},
     "output_type": "execute_result"
    }
   ],
   "source": [
    "pmns"
   ]
  },
  {
   "cell_type": "code",
   "execution_count": 195,
   "id": "d3bb638a",
   "metadata": {},
   "outputs": [
    {
     "data": {
      "text/plain": [
       "1.0000000000000453"
      ]
     },
     "execution_count": 195,
     "metadata": {},
     "output_type": "execute_result"
    }
   ],
   "source": [
    "np.square(np.abs(evolutor * pmns[:,1])).sum()"
   ]
  },
  {
   "cell_type": "code",
   "execution_count": 189,
   "id": "13038aaf",
   "metadata": {},
   "outputs": [
    {
     "data": {
      "text/plain": [
       "matrix([[ 0.54491046+0.j        ],\n",
       "        [ 0.60732118+0.0160403j ],\n",
       "        [-0.57773857+0.01394363j]])"
      ]
     },
     "execution_count": 189,
     "metadata": {},
     "output_type": "execute_result"
    }
   ],
   "source": [
    "pmns[:,1]"
   ]
  },
  {
   "cell_type": "code",
   "execution_count": 118,
   "id": "d6c45b23",
   "metadata": {},
   "outputs": [
    {
     "data": {
      "text/plain": [
       "[array([[ 0.50468944+0.25208973j, -0.67958312+0.40466203j,\n",
       "         -0.19522786-0.13431623j],\n",
       "        [-0.67925986+0.40520442j, -0.01352326+0.59970356j,\n",
       "          0.10193872-0.06478178j],\n",
       "        [-0.19547505-0.13395618j,  0.10187103-0.06488826j,\n",
       "         -0.75538793-0.59887071j]]),\n",
       " array([[ 0.35463998-0.07815822j, -0.89984458-0.13091367j,\n",
       "         -0.17525169+0.10271301j],\n",
       "        [-0.89994938-0.13019095j, -0.33850348-0.19862858j,\n",
       "          0.13641274+0.02225025j],\n",
       "        [-0.17505716+0.10304459j,  0.1364366 +0.02210164j,\n",
       "         -0.77973917+0.5758821j ]]),\n",
       " array([[ 0.92511762+0.1608793j , -0.10560707+0.29974631j,\n",
       "         -0.02323114-0.12936322j],\n",
       "        [-0.09760951+0.30244798j,  0.84945605+0.41793714j,\n",
       "          0.0162053 -0.04987946j],\n",
       "        [-0.03163938-0.12756091j,  0.01429312-0.05047744j,\n",
       "          0.74843521-0.6479349j ]]),\n",
       " array([[ 0.37924069+0.12258838j, -0.86452216+0.24296269j,\n",
       "         -0.04208778-0.18151521j],\n",
       "        [-0.85477498+0.27551388j, -0.23747675+0.34016677j,\n",
       "          0.13878856-0.0456172j ],\n",
       "        [-0.06273686-0.17511283j,  0.1352613 -0.05627001j,\n",
       "          0.01128084-0.97149905j]]),\n",
       " array([[ 0.35446154+0.1603566j , -0.85850541+0.27327093j,\n",
       "         -0.18524675+0.05116515j],\n",
       "        [-0.85773658+0.27567542j, -0.22301188+0.34623487j,\n",
       "          0.13018865-0.04158191j],\n",
       "        [-0.18476205+0.05288462j,  0.12991719-0.04242753j,\n",
       "         -0.83521606+0.49679147j]])]"
      ]
     },
     "execution_count": 118,
     "metadata": {},
     "output_type": "execute_result"
    }
   ],
   "source": [
    "ME12"
   ]
  },
  {
   "cell_type": "code",
   "execution_count": 108,
   "id": "cdbd1923",
   "metadata": {},
   "outputs": [
    {
     "data": {
      "text/plain": [
       "[array([[ 0.35446154+0.1603566j , -0.85850541+0.27327093j,\n",
       "         -0.18524675+0.05116515j],\n",
       "        [-0.85773658+0.27567542j, -0.22301188+0.34623487j,\n",
       "          0.13018865-0.04158191j],\n",
       "        [-0.18476205+0.05288462j,  0.12991719-0.04242753j,\n",
       "         -0.83521606+0.49679147j]]),\n",
       " array([[ 0.37924069+0.12258838j, -0.86452216+0.24296269j,\n",
       "         -0.04208778-0.18151521j],\n",
       "        [-0.85477498+0.27551388j, -0.23747675+0.34016677j,\n",
       "          0.13878856-0.0456172j ],\n",
       "        [-0.06273686-0.17511283j,  0.1352613 -0.05627001j,\n",
       "          0.01128084-0.97149905j]]),\n",
       " array([[ 0.92511762+0.1608793j , -0.10560707+0.29974631j,\n",
       "         -0.02323114-0.12936322j],\n",
       "        [-0.09760951+0.30244798j,  0.84945605+0.41793714j,\n",
       "          0.0162053 -0.04987946j],\n",
       "        [-0.03163938-0.12756091j,  0.01429312-0.05047744j,\n",
       "          0.74843521-0.6479349j ]]),\n",
       " array([[ 0.35463998-0.07815822j, -0.89984458-0.13091367j,\n",
       "         -0.17525169+0.10271301j],\n",
       "        [-0.89994938-0.13019095j, -0.33850348-0.19862858j,\n",
       "          0.13641274+0.02225025j],\n",
       "        [-0.17505716+0.10304459j,  0.1364366 +0.02210164j,\n",
       "         -0.77973917+0.5758821j ]]),\n",
       " array([[ 0.50468944+0.25208973j, -0.67958312+0.40466203j,\n",
       "         -0.19522786-0.13431623j],\n",
       "        [-0.67925986+0.40520442j, -0.01352326+0.59970356j,\n",
       "          0.10193872-0.06478178j],\n",
       "        [-0.19547505-0.13395618j,  0.10187103-0.06488826j,\n",
       "         -0.75538793-0.59887071j]])]"
      ]
     },
     "execution_count": 108,
     "metadata": {},
     "output_type": "execute_result"
    }
   ],
   "source": [
    "ME12"
   ]
  },
  {
   "cell_type": "code",
   "execution_count": 150,
   "id": "80cf95e0",
   "metadata": {},
   "outputs": [
    {
     "data": {
      "text/plain": [
       "array([[1, 0, 0],\n",
       "       [0, 2, 0],\n",
       "       [0, 0, 3]])"
      ]
     },
     "execution_count": 150,
     "metadata": {},
     "output_type": "execute_result"
    }
   ],
   "source": [
    "np.diag([1,2,3])"
   ]
  },
  {
   "cell_type": "code",
   "execution_count": null,
   "id": "a4831053",
   "metadata": {},
   "outputs": [],
   "source": []
  }
 ],
 "metadata": {
  "kernelspec": {
   "display_name": "Python 3 (ipykernel)",
   "language": "python",
   "name": "python3"
  },
  "language_info": {
   "codemirror_mode": {
    "name": "ipython",
    "version": 3
   },
   "file_extension": ".py",
   "mimetype": "text/x-python",
   "name": "python",
   "nbconvert_exporter": "python",
   "pygments_lexer": "ipython3",
   "version": "3.8.12"
  }
 },
 "nbformat": 4,
 "nbformat_minor": 5
}
