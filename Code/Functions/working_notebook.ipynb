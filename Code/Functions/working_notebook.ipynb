{
 "cells": [
  {
   "cell_type": "markdown",
   "id": "cf7e3603",
   "metadata": {},
   "source": [
    "# Define paths"
   ]
  },
  {
   "cell_type": "code",
   "execution_count": 1,
   "id": "f00195d0",
   "metadata": {},
   "outputs": [],
   "source": [
    "from pathlib import Path\n",
    "\n",
    "project_folder = str(Path(Path.cwd()).parents[1])\n",
    "\n",
    "plots_folder = project_folder + \"/TeX/figs/\""
   ]
  },
  {
   "cell_type": "markdown",
   "id": "f36366f5",
   "metadata": {},
   "source": [
    "# Import solar model"
   ]
  },
  {
   "cell_type": "code",
   "execution_count": 2,
   "id": "c8fb3dc2",
   "metadata": {},
   "outputs": [
    {
     "data": {
      "text/html": [
       "<div>\n",
       "<style scoped>\n",
       "    .dataframe tbody tr th:only-of-type {\n",
       "        vertical-align: middle;\n",
       "    }\n",
       "\n",
       "    .dataframe tbody tr th {\n",
       "        vertical-align: top;\n",
       "    }\n",
       "\n",
       "    .dataframe thead th {\n",
       "        text-align: right;\n",
       "    }\n",
       "</style>\n",
       "<table border=\"1\" class=\"dataframe\">\n",
       "  <thead>\n",
       "    <tr style=\"text-align: right;\">\n",
       "      <th></th>\n",
       "      <th>radius</th>\n",
       "      <th>density_log_10</th>\n",
       "      <th>8B fraction</th>\n",
       "      <th>hep fraction</th>\n",
       "      <th>density</th>\n",
       "    </tr>\n",
       "  </thead>\n",
       "  <tbody>\n",
       "    <tr>\n",
       "      <th>0</th>\n",
       "      <td>0.00041</td>\n",
       "      <td>2.011</td>\n",
       "      <td>0.000005</td>\n",
       "      <td>1.661000e-07</td>\n",
       "      <td>102.565193</td>\n",
       "    </tr>\n",
       "    <tr>\n",
       "      <th>1</th>\n",
       "      <td>0.00082</td>\n",
       "      <td>2.011</td>\n",
       "      <td>0.000014</td>\n",
       "      <td>4.865000e-07</td>\n",
       "      <td>102.565193</td>\n",
       "    </tr>\n",
       "    <tr>\n",
       "      <th>2</th>\n",
       "      <td>0.00123</td>\n",
       "      <td>2.011</td>\n",
       "      <td>0.000023</td>\n",
       "      <td>8.074000e-07</td>\n",
       "      <td>102.565193</td>\n",
       "    </tr>\n",
       "    <tr>\n",
       "      <th>3</th>\n",
       "      <td>0.00164</td>\n",
       "      <td>2.011</td>\n",
       "      <td>0.000035</td>\n",
       "      <td>1.245000e-06</td>\n",
       "      <td>102.565193</td>\n",
       "    </tr>\n",
       "    <tr>\n",
       "      <th>4</th>\n",
       "      <td>0.00205</td>\n",
       "      <td>2.011</td>\n",
       "      <td>0.000053</td>\n",
       "      <td>1.857000e-06</td>\n",
       "      <td>102.565193</td>\n",
       "    </tr>\n",
       "    <tr>\n",
       "      <th>...</th>\n",
       "      <td>...</td>\n",
       "      <td>...</td>\n",
       "      <td>...</td>\n",
       "      <td>...</td>\n",
       "      <td>...</td>\n",
       "    </tr>\n",
       "    <tr>\n",
       "      <th>1214</th>\n",
       "      <td>0.49795</td>\n",
       "      <td>0.071</td>\n",
       "      <td>0.000000</td>\n",
       "      <td>2.902000e-10</td>\n",
       "      <td>1.177606</td>\n",
       "    </tr>\n",
       "    <tr>\n",
       "      <th>1215</th>\n",
       "      <td>0.49836</td>\n",
       "      <td>0.069</td>\n",
       "      <td>0.000000</td>\n",
       "      <td>2.843000e-10</td>\n",
       "      <td>1.172195</td>\n",
       "    </tr>\n",
       "    <tr>\n",
       "      <th>1216</th>\n",
       "      <td>0.49877</td>\n",
       "      <td>0.067</td>\n",
       "      <td>0.000000</td>\n",
       "      <td>2.785000e-10</td>\n",
       "      <td>1.166810</td>\n",
       "    </tr>\n",
       "    <tr>\n",
       "      <th>1217</th>\n",
       "      <td>0.49918</td>\n",
       "      <td>0.065</td>\n",
       "      <td>0.000000</td>\n",
       "      <td>2.728000e-10</td>\n",
       "      <td>1.161449</td>\n",
       "    </tr>\n",
       "    <tr>\n",
       "      <th>1218</th>\n",
       "      <td>0.49959</td>\n",
       "      <td>0.063</td>\n",
       "      <td>0.000000</td>\n",
       "      <td>2.672000e-10</td>\n",
       "      <td>1.156112</td>\n",
       "    </tr>\n",
       "  </tbody>\n",
       "</table>\n",
       "<p>1219 rows × 5 columns</p>\n",
       "</div>"
      ],
      "text/plain": [
       "       radius  density_log_10  8B fraction  hep fraction     density\n",
       "0     0.00041           2.011     0.000005  1.661000e-07  102.565193\n",
       "1     0.00082           2.011     0.000014  4.865000e-07  102.565193\n",
       "2     0.00123           2.011     0.000023  8.074000e-07  102.565193\n",
       "3     0.00164           2.011     0.000035  1.245000e-06  102.565193\n",
       "4     0.00205           2.011     0.000053  1.857000e-06  102.565193\n",
       "...       ...             ...          ...           ...         ...\n",
       "1214  0.49795           0.071     0.000000  2.902000e-10    1.177606\n",
       "1215  0.49836           0.069     0.000000  2.843000e-10    1.172195\n",
       "1216  0.49877           0.067     0.000000  2.785000e-10    1.166810\n",
       "1217  0.49918           0.065     0.000000  2.728000e-10    1.161449\n",
       "1218  0.49959           0.063     0.000000  2.672000e-10    1.156112\n",
       "\n",
       "[1219 rows x 5 columns]"
      ]
     },
     "execution_count": 2,
     "metadata": {},
     "output_type": "execute_result"
    }
   ],
   "source": [
    "import pandas as pd\n",
    "import matplotlib.pyplot as plt\n",
    "\n",
    "solar_model = pd.read_csv(\"./Data/bs2005agsopflux.csv\", \n",
    "                          usecols=[1, 3, 7, 13],\n",
    "                          names = ['radius', 'density_log_10', '8B fraction', 'hep fraction'],\n",
    "                          sep=\" \", skiprows=27, header=None)\n",
    "\n",
    "solar_model['density'] = 10**solar_model['density_log_10']\n",
    "solar_model"
   ]
  },
  {
   "cell_type": "code",
   "execution_count": 3,
   "id": "386d9433",
   "metadata": {},
   "outputs": [
    {
     "data": {
      "text/plain": [
       "<AxesSubplot:xlabel='r', ylabel='$n_e(r)$ [mol/cm${}^3$]'>"
      ]
     },
     "execution_count": 3,
     "metadata": {},
     "output_type": "execute_result"
    },
    {
     "data": {
      "image/png": "[encoded data removed]",
      "text/plain": [
       "<Figure size 432x288 with 1 Axes>"
      ]
     },
     "metadata": {
      "needs_background": "light"
     },
     "output_type": "display_data"
    }
   ],
   "source": [
    "plot = solar_model.plot(x='radius', y='density', logy=True)\n",
    "plot.set_xlabel(\"r\")\n",
    "plot.set_ylabel(\"$n_e(r)$ [mol/cm${}^3$]\")\n",
    "plot.legend(labels=['Solar electron density'])\n",
    "\n",
    "plt.savefig(plots_folder + \"sun_density.pdf\")\n",
    "\n",
    "plot"
   ]
  },
  {
   "cell_type": "markdown",
   "id": "e2fc4ef1",
   "metadata": {},
   "source": [
    "# Compute solar neutrino survival probability at Sun surface"
   ]
  },
  {
   "cell_type": "code",
   "execution_count": 4,
   "id": "bee60d2a",
   "metadata": {},
   "outputs": [],
   "source": [
    "# Define function for the ratio between matter and vacuum terms in neutrino oscillations\n",
    "def Vk(Deltam2, E, ne):\n",
    "    \"\"\"Vk(Deltam2, E, ne) computes the ratio V/k between the matter and vacuum terms in neutrino oscillations.\n",
    "    - Deltam2 is the squared mass difference, in units of eV^2;\n",
    "    - E is the neutrino energy, in units of MeV;\n",
    "    - ne is the electron matter density, in units of mol/cm^3;\n",
    "See also Eq.s 4.17, 4.18 in 1802.05781.\"\"\"\n",
    "    return (3.868e-7)/(2.533) * (ne / (Deltam2 / E))"
   ]
  },
  {
   "cell_type": "code",
   "execution_count": 5,
   "id": "1a2a7dd1",
   "metadata": {},
   "outputs": [],
   "source": [
    "from numpy import cos, sin, arcsin, tan, arctan, pi\n",
    "\n",
    "# Define mixing angles in matter\n",
    "def th12_M (th12, th13, DeltamSq21, E, ne):\n",
    "    \"\"\"th12_M(th12, th13, DeltamSq21, E, ne) computes the mixing angle \\theta_{12} in matter.\n",
    "    - th1j are the vacuum mixing angles in radians;\n",
    "    - DeltamSq21 is the vacuum squared mass difference between mass eigenstates 2 and 1;\n",
    "    - E is the neutrino energy, in units of MeV;\n",
    "    - ne is the electron matter density, in units of mol/cm^3.\n",
    "See also Eq. 1.22 in FiuzadeBarros:2011qna.\"\"\"\n",
    "    return (arctan(tan(2*th12) / (1 - (cos(th13)**2)/(cos(2* th12)) * Vk(DeltamSq21, E, ne))) / 2) % (pi/2)\n",
    "\n",
    "\n",
    "def th13_M (th13, DeltamSq31, E, ne):\n",
    "    \"\"\"th13_M(th13, DeltamSq31, E, ne) computes the mixing angle \\theta_{13} in matter.\n",
    "    - th13 is the vacuum mixing angles \\theta_{13} in radians;\n",
    "    - DeltamSq31 is the vacuum squared mass difference between mass eigenstates 3 and 1;\n",
    "    - E is the neutrino energy, in units of MeV;\n",
    "    - ne is the electron matter density, in units of mol/cm^3.\n",
    "See also Eq. 1.22 in FiuzadeBarros:2011qna.\"\"\"\n",
    "    return (arcsin(sin(th13) * (1 + Vk(DeltamSq31, E, ne) * cos(th13)**2))) % (pi/2)"
   ]
  },
  {
   "cell_type": "code",
   "execution_count": 6,
   "id": "46e2ea5a",
   "metadata": {},
   "outputs": [],
   "source": [
    "# Compute survival probability at Sun surface for fixed energy and electron density\n",
    "def Pnuenue (th12, th13, DeltamSq21, DeltamSq31, E, ne):\n",
    "    \"\"\"Pnuenue(th12, th13, DeltamSq21, DeltamSq31, E, ne) computes the survival probability of an electron neutrino\n",
    "    neutrino at the Sun surface in the adiabatic approximation, as a function of vacuum oscillation parameters.\n",
    "    - th1j are the vacuum mixing angles in radians;\n",
    "    - DeltamSqj1 are the vacuum squared mass difference between mass eigenstates 2 and 1;\n",
    "    - E is the neutrino energy, in units of MeV;\n",
    "    - ne is the electron matter density at neutrino production point, in units of mol/cm^3.\n",
    "See also Eq. 6.14 in FiuzadeBarros:2011qna.\"\"\"\n",
    "    th12m = th12_M(th12, th13, DeltamSq21, E, ne)\n",
    "    th13m = th13_M(th13, DeltamSq31, E, ne)\n",
    "    return cos(th13)**2 * cos(th13m)**2 * (cos(th12)**2 * cos(th12m)**2 + sin(th12)**2 * sin(th12m)**2) + sin(th13)**2 * sin(th13m)**2"
   ]
  },
  {
   "cell_type": "code",
   "execution_count": 7,
   "id": "d20f1a22",
   "metadata": {},
   "outputs": [
    {
     "data": {
      "text/plain": [
       "<AxesSubplot:xlabel='r', ylabel='Neutrino fraction'>"
      ]
     },
     "execution_count": 7,
     "metadata": {},
     "output_type": "execute_result"
    },
    {
     "data": {
      "image/png": "[encoded data removed]",
      "text/plain": [
       "<Figure size 432x288 with 1 Axes>"
      ]
     },
     "metadata": {
      "needs_background": "light"
     },
     "output_type": "display_data"
    }
   ],
   "source": [
    "plot = solar_model.plot(x='radius', y=['8B fraction', 'hep fraction'])\n",
    "plot.set_xlabel('r')\n",
    "plot.set_ylabel('Neutrino fraction')\n",
    "plot.legend(labels=['${}^8$B reaction', 'hep reaction'])\n",
    "\n",
    "plt.savefig(plots_folder + \"reaction_fraction.pdf\")\n",
    "\n",
    "plot"
   ]
  },
  {
   "cell_type": "code",
   "execution_count": 8,
   "id": "88af160a",
   "metadata": {},
   "outputs": [],
   "source": [
    "from scipy import integrate\n",
    "import numpy as np\n",
    "\n",
    "# Compute the survival probability at Sun surface for a given reaction, integrated over the production point\n",
    "def PnuenueReaction (th12, th13, DeltamSq21, DeltamSq31, E, radius_samples, density, fraction):\n",
    "    \"\"\"PnuenueReaction (th12, th13, DeltamSq21, DeltamSq31, E, radius_samples, density, fraction) computes the\n",
    "    survival probability at Sun surface for an electron with energy E produced in a specific reaction.\n",
    "    - th1j are the vacuum mixing angles in radians;\n",
    "    - DeltamSqj1 are the vacuum squared mass difference between mass eigenstates 2 and 1;\n",
    "    - E is the neutrino energy, in units of MeV;\n",
    "    - radius_samples is a list of solar relative radius values where density and fraction are sampled;\n",
    "    - density is the list of electron densities at radii radius_samples, in units of mol/cm^3;\n",
    "    - fraction is the relative fraction of neutrinos produced in the considered reaction, sampled at radius_samples.\"\"\"\n",
    "    \n",
    "    IntegratedFraction = integrate.trapezoid(y=fraction, x=radius_samples)\n",
    "    PnuenueRadius = np.array([Pnuenue(th12, th13, DeltamSq21, DeltamSq31, E, ne_r) for ne_r in density])\n",
    "    \n",
    "    return integrate.trapezoid(y=(PnuenueRadius * fraction), x = radius_samples) / IntegratedFraction"
   ]
  },
  {
   "cell_type": "code",
   "execution_count": 9,
   "id": "75631994",
   "metadata": {},
   "outputs": [],
   "source": [
    "from math import sqrt\n",
    "\n",
    "th12 = arctan(sqrt(0.469))\n",
    "th13 = arcsin(sqrt(0.01))\n",
    "DeltamSq21 = 7.9e-5\n",
    "DeltamSq31 = 2.46e-3\n",
    "E = 10\n",
    "ne = 100\n",
    "radius_samples = solar_model.radius\n",
    "density = solar_model.density\n",
    "fraction = solar_model['8B fraction']\n",
    "\n",
    "xrange = np.arange(1,20,0.1)\n",
    "ProbB8 = [PnuenueReaction(th12, th13, DeltamSq21, DeltamSq31, E, radius_samples, density, solar_model['8B fraction']) for E in xrange]\n",
    "Probhep = [PnuenueReaction(th12, th13, DeltamSq21, DeltamSq31, E, radius_samples, density, solar_model['hep fraction']) for E in xrange]"
   ]
  },
  {
   "cell_type": "code",
   "execution_count": 10,
   "id": "c7e224ee",
   "metadata": {},
   "outputs": [],
   "source": [
    "SNO_B8 = pd.read_csv(\"./Data/B8.csv\", names=['energy', 'Pnuenue'])\n",
    "SNO_hep = pd.read_csv(\"./Data/hep.csv\", names=['energy', 'Pnuenue'])"
   ]
  },
  {
   "cell_type": "code",
   "execution_count": 11,
   "id": "3fc1688b",
   "metadata": {},
   "outputs": [
    {
     "data": {
      "image/png": "[encoded data removed]",
      "text/plain": [
       "<Figure size 432x288 with 1 Axes>"
      ]
     },
     "metadata": {
      "needs_background": "light"
     },
     "output_type": "display_data"
    }
   ],
   "source": [
    "plt.plot(xrange, ProbB8, label=\"This code\")\n",
    "plt.plot(SNO_B8.energy, SNO_B8.Pnuenue, label='SNO_example')\n",
    "plt.title(\"${}^8$B neutrinos\")\n",
    "plt.xlabel('Energy [MeV]')\n",
    "plt.ylabel(r\"$P_{\\nu_e \\rightarrow \\nu_e}$\")\n",
    "plt.legend()\n",
    "plt.savefig(plots_folder + \"8B_SNO_cmparison.pdf\")\n",
    "\n",
    "plt.show()"
   ]
  },
  {
   "cell_type": "code",
   "execution_count": 12,
   "id": "acebae0b",
   "metadata": {},
   "outputs": [
    {
     "data": {
      "image/png": "[encoded data removed]",
      "text/plain": [
       "<Figure size 432x288 with 1 Axes>"
      ]
     },
     "metadata": {
      "needs_background": "light"
     },
     "output_type": "display_data"
    }
   ],
   "source": [
    "plt.plot(xrange, Probhep, label=\"This code\")\n",
    "plt.plot(SNO_hep.energy, SNO_hep.Pnuenue, label='SNO_example')\n",
    "plt.title(\"hep neutrinos\")\n",
    "plt.xlabel('Energy [MeV]')\n",
    "plt.ylabel(r\"$P_{\\nu_e \\rightarrow \\nu_e}$\")\n",
    "plt.legend()\n",
    "plt.savefig(plots_folder + \"hep_SNO_comparison.pdf\")\n",
    "\n",
    "plt.show()"
   ]
  },
  {
   "cell_type": "markdown",
   "id": "7925295b",
   "metadata": {},
   "source": [
    "# Earth regeneration"
   ]
  },
  {
   "cell_type": "markdown",
   "id": "08f71a0e",
   "metadata": {},
   "source": [
    "### It is not necessary to define a new function for undergroud detector:\n",
    "- for $0 \\leq \\eta \\leq \\pi/2$: use total path for first half of propagation, then stop at $r_{det} = 1 - h$ for second half;\n",
    "- for $\\pi/2 \\leq \\eta \\leq \\pi$: just use downstream path (with constant density? The density variation is at most $10^{-4}$ for SNO)"
   ]
  },
  {
   "cell_type": "code",
   "execution_count": 13,
   "id": "b7080a70",
   "metadata": {},
   "outputs": [],
   "source": [
    "import numpy as np\n",
    "from math import sin, cos, sqrt\n",
    "\n",
    "def EarthDensity (x = 0, eta = 0, parameters = False): \n",
    "    \"\"\"EarthDensity(x, eta, integrated) computes:\n",
    "    - if parameters == False: the value of Earth electron density in units of mol/cm^3 for trajectory coordinate \n",
    "    x and nadir angle eta;\n",
    "    - if parameters == True: a list of lists, where each element [[a, b, c], x_i] refers to a Earth shell \n",
    "    (from inner to outer layers) having density profile n_e(x) = a + b x^2 + c x^4, with shell external boundary \n",
    "    at x == x_i.\n",
    "See hep-ph/9702343 for the definition of trajectory coordinate and Earth density parametrisation.\"\"\"\n",
    "    \n",
    "    # The density profile is symmetric with respect to x=0 \n",
    "    x = np.abs(x)\n",
    "    \n",
    "    # If x > cos(eta) the trajectory coordinate is beyond Earth surface, thus density is zero.\n",
    "    if ((~parameters) & (x > cos(eta))):\n",
    "        return 0\n",
    "    else:\n",
    "        # Define the Earth density parametrisation, in units of mol/cm^3, following hep-ph/9702343\n",
    "        alpha = np.array([6.099, 5.803, 3.156, -5.376, 11.540])\n",
    "        beta = np.array([-4.119, -3.653, -1.459, 19.210, -20.280])\n",
    "        gamma = np.array([0, -1.086, 0.280, -12.520, 10.410])\n",
    "\n",
    "        rj = np.array([0.192, 0.546, 0.895, 0.937, 1])\n",
    "\n",
    "        # Select the index \"idx_shells\" in rj such that for i >= idx_shells => rj[i] > sin(eta)\n",
    "        # The shells having rj[i] > sin(eta) are the ones crossed by a path with nadir angle = eta\n",
    "        idx_shells = np.searchsorted(rj, sin(eta))\n",
    "        \n",
    "        # Keep only the parameters for the shells crossed by the path with nadir angle eta\n",
    "        alpha_prime = alpha[idx_shells::] + beta[idx_shells::] * sin(eta)**2 + gamma[idx_shells::] * sin(eta)**4\n",
    "        beta_prime = beta[idx_shells::] + 2 * gamma[idx_shells::] * sin(eta)**2\n",
    "        gamma_prime = gamma[idx_shells::]\n",
    "\n",
    "        # Compute the value of the trajectory coordinates xj at each shell crossing\n",
    "        xj = np.sqrt( (rj[idx_shells::])**2 - sin(eta)**2 )\n",
    "\n",
    "        # The index \"idx\" determines within which shell xj[idx] the point x is\n",
    "        idx = np.searchsorted(xj, x)\n",
    "        \n",
    "        # If parameters == true, the function returns the values of the density parameters for the shells \n",
    "        # crossed by the path with nadir angle = eta\n",
    "        if parameters:\n",
    "            return [ [ [alpha_prime[i], beta_prime[i], gamma_prime[i]], xj[i] ] for i in range(len(alpha_prime))]\n",
    "       \n",
    "        # If parameters == False, return the value of electron density at trajectory point x for nadir angle = eta\n",
    "        else:\n",
    "            return alpha_prime[idx] + beta_prime[idx] * x**2 + gamma_prime[idx] * x**4"
   ]
  },
  {
   "cell_type": "code",
   "execution_count": 14,
   "id": "72705656",
   "metadata": {
    "scrolled": true
   },
   "outputs": [
    {
     "data": {
      "image/png": "[encoded data removed]",
      "text/plain": [
       "<Figure size 432x288 with 1 Axes>"
      ]
     },
     "metadata": {
      "needs_background": "light"
     },
     "output_type": "display_data"
    }
   ],
   "source": [
    "import matplotlib.pyplot as plt\n",
    "from math import pi\n",
    "\n",
    "x = np.arange(0,1,0.001)\n",
    "eta = [0, pi/6, pi/4, pi/3]\n",
    "labels = [\"0\", \"pi/6\", \"pi/4\", \"pi/3\"]\n",
    "\n",
    "density = [ [EarthDensity(r, n) for r in x] for n in eta]\n",
    "\n",
    "plt.xlabel(\"Nadir angle $\\eta$\")\n",
    "plt.ylabel(\"Density [mol/cm${}^3$]\")\n",
    "for i in range(len(density)):\n",
    "    plt.plot(x,density[i], label = \"$\\eta$ = %s\" %labels[i])\n",
    "plt.legend()\n",
    "plt.savefig(plots_folder + \"earth_density.pdf\")\n",
    "    \n",
    "plt.show()"
   ]
  },
  {
   "cell_type": "markdown",
   "id": "351c1d62",
   "metadata": {},
   "source": [
    "The density can be approximated as constant for downstream paths"
   ]
  },
  {
   "cell_type": "code",
   "execution_count": 15,
   "id": "e43bc981",
   "metadata": {},
   "outputs": [
    {
     "data": {
      "text/plain": [
       "0.00010027377254072573"
      ]
     },
     "execution_count": 15,
     "metadata": {},
     "output_type": "execute_result"
    }
   ],
   "source": [
    "h = 2 / 6.371e3\n",
    "\n",
    "(EarthDensity(1) - EarthDensity(1-h))/(EarthDensity(1) + EarthDensity(1-h))"
   ]
  },
  {
   "cell_type": "markdown",
   "id": "ccb05b98",
   "metadata": {},
   "source": [
    "# Compute Earth matter regeneration"
   ]
  },
  {
   "cell_type": "code",
   "execution_count": 16,
   "id": "860a913e",
   "metadata": {},
   "outputs": [],
   "source": [
    "import numpy as np\n",
    "from math import cos, sin, sqrt, atan\n",
    "from cmath import exp"
   ]
  },
  {
   "cell_type": "code",
   "execution_count": 17,
   "id": "4fc07f77",
   "metadata": {},
   "outputs": [],
   "source": [
    "# Earth radius R_E: since we integrate over the dimensionless parameter r = R/R_E, the Hamiltonian must be\n",
    "# multiplied by R_E\n",
    "R_E = 6.371e6 # meters\n",
    "\n",
    "# Matter potential\n",
    "def MatterPotential (n):\n",
    "    \"\"\"MatterPotential(n) computes the matter potential due to an electron density n, expressed in mol/cm^3\n",
    "See Eq. 4.17 in 1802.05781.\"\"\"\n",
    "    # n in mol / cm^3\n",
    "    return R_E * 3.868e-7 * n\n",
    "\n",
    "# Kinetic potential\n",
    "def k(mSq, E):\n",
    "    \"\"\"k(mSq, E) computes the kinetic potential for an ultrarelativistic neutrino:\n",
    "    - mSq is the squared mass (or mass difference) in units of eV^2;\n",
    "    - E is the neutrino energy in MeV.\n",
    "See Eq. 4.18 in 1802.05781.\"\"\"\n",
    "    # mSq in eV^2, E in MeV\n",
    "    return R_E * 2.533 * mSq / E"
   ]
  },
  {
   "cell_type": "code",
   "execution_count": 18,
   "id": "31d8d21e",
   "metadata": {},
   "outputs": [],
   "source": [
    "# Computes coefficients of the characteristic equation for the matrix T = H - Tr(H)/3, cf. hep-ph/9910546 \n",
    "def c0 (m1Sq, m2Sq, m3Sq, th12, th13, E, n):\n",
    "    \"\"\"c0(m1Sq, m2Sq, m3Sq, E, n) computes the coefficient c_0 defined in hep-ph/9910546, for the specific case\n",
    "    in which the mixing matrix is the reduced one U = R_{13} R_{12}:\n",
    "    - miSq are the squared masses (or mass differences) in units of eV^2;\n",
    "    - thij are the PMNS mixing angles;\n",
    "    - E is the neutrino energy, in units of MeV;\n",
    "    - n is the electron matted density, in units of mol/cm^3.\n",
    "See hep-ph/9910546 for the full context of the definition.\"\"\"\n",
    "    [k1, k2, k3] = k(np.array([m1Sq, m2Sq, m3Sq]), E)\n",
    "    V = MatterPotential(n)\n",
    "    \n",
    "    return (-4*(k1 + k2 - 2*k3)*(2*k1 - k2 - k3)*(k1 - 2*k2 + k3) + \n",
    "  3*(k1**2 - 4*k1*k2 + k2**2 + 2*(k1 + k2)*k3 - 2*k3**2)*V + \n",
    "  3*(k1 + k2 - 2*k3)*V**2 - 8*V**3 - 18*(k1 - k2)*V*(k1 + k2 - 2*k3 + V)*\n",
    "   cos(2*th12)*cos(th13)**2 - 9*V*(k1**2 + k2**2 - 2*k3*(k3 + V) + \n",
    "    k2*(2*k3 + V) + k1*(-4*k2 + 2*k3 + V))*cos(2*th13) )/108\n",
    "\n",
    "\n",
    "def c1(m1Sq, m2Sq, m3Sq, th12, th13, E, n):\n",
    "    \"\"\"c1(m1Sq, m2Sq, m3Sq, E, n) computes the coefficient c_1 defined in hep-ph/9910546, for the specific case\n",
    "    in which the mixing matrix is the reduced one U = R_{13} R_{12}:\n",
    "    - miSq are the squared masses (or mass differences) in units of eV^2;\n",
    "    - thij are the PMNS mixing angles;\n",
    "    - E is the neutrino energy, in units of MeV;\n",
    "    - n is the electron matted density, in units of mol/cm^3.\n",
    "See hep-ph/9910546 for the full context of the definition.\"\"\"\n",
    "    [k1, k2, k3] = k(np.array([m1Sq,m2Sq,m3Sq]), E)\n",
    "    V = MatterPotential(n)\n",
    "    \n",
    "    return (-4*(k1**2 - k1*k2 + k2**2 - (k1 + k2)*k3 + k3**2) + (k1 + k2 - 2*k3)*V - \n",
    "  4*V**2 + 6*(-k1 + k2)*V*cos(2*th12)*cos(th13)**2 - \n",
    "  3*(k1 + k2 - 2*k3)*V*cos(2*th13))/12\n",
    "\n",
    "\n",
    "# Computes the solutions of the characteristic equation for the matrix T = H - Tr(H)/3, cf. hep-ph/9910546 \n",
    "def lambdas (c0, c1):\n",
    "    \"\"\"lambdas(c0, c1) computes the solutions (roots) of the characteristic equation for the matrix \n",
    "    T = H - Tr(H)/3, i.e. the quantities \\lambda_i defined in Eq.s (33-35) in hep-ph/9910546:\n",
    "    - c0, c1 are the coefficients of the characteristic equations for the matrix T = H - Tr(H)/3, they are\n",
    "    computed by the functions c0(m1Sq, m2Sq, m3Sq, E, n) and c1(m1Sq, m2Sq, m3Sq, E, n) for the specific\n",
    "    scenario in which the mixing matrix is the reduced one U = R_{13} R_{12}.\n",
    "    \n",
    "    The function returns a list containing the 3 roots.\n",
    "See hep-ph/9910546 for the full context of the definition.\"\"\"\n",
    "    l1 = -(sqrt(-(1/3) * c1)*cos(1/3 * atan(1/c0 * sqrt(-c0**2 - 4/27 * c1**3))) + \n",
    "   sqrt(-c1) * sin(1/3 * atan(1/c0 * sqrt(-c0**2 - 4/27 * c1**3))))\n",
    "    l2 = -( sqrt(-(1/3) * c1)*cos(1/3 * atan(1/c0 * sqrt(-c0**2 - 4/27 * c1**3))) - \n",
    "   sqrt(-c1) * sin(1/3 * atan(1/c0 * sqrt(-c0**2 - 4/27 * c1**3))))\n",
    "    l3 = (2 * sqrt(-(1/3) * c1) * cos(1/3 * atan(1/c0 * sqrt(-c0**2 - 4/27 * c1**3))) )\n",
    "    \n",
    "    return [l1, l2, l3]\n",
    "\n",
    "\n",
    "\n",
    "# Compute the integrals required for the first order correction in the evolutor\n",
    "def Iab (la, lb, atilde, b, c, x2, x1):\n",
    "    \"\"\"Iab(la, lb, atilde, b, c, x2, x1) computes the definite integral: \n",
    "    \\int_x1^x2 dx e^{- i la (x2-x)} (atilde + b x^2 + c x^4) e^{- i lb (x-x1)}.\n",
    "    \n",
    "    It is assumed that the integral of (atilde + b x^2 + c x^4) vanished on the considered interval, i.e.\n",
    "    atilde (x2-x1) + b (x2^3 -x1^3)/3 + c (x2^5 - x1^5)/5 = 0.\n",
    "    \n",
    "    The integral is identically zero if la == lb.\n",
    "    \n",
    "    The analytic solution is numerically instable when la ~ lb, thus for the case in which \n",
    "    abs((la - lb) / (la + lb)) < 1e-2 we compute the 2nd order Taylor expansion around the point la == lb,\n",
    "    which is numerically stable.\"\"\"\n",
    "    \n",
    "    # The analytic solution depends on la, lb only via Dl = la - lb, except for a common phase factor.\n",
    "    Dl = la - lb\n",
    "    \n",
    "    # If la == la the integral is identically zero.\n",
    "    if Dl == 0:\n",
    "        return 0\n",
    "    \n",
    "    # For small differences between la and lb we compute the 2nd order Taylor expansion around la == lb,\n",
    "    # which is numerically stable\n",
    "    elif np.abs(Dl / (la + lb)) < 1e-2:\n",
    "        return exp(1j*lb*(-x2 + x1))*(Dl*((-1j/2)*atilde*(x2 - x1)**2 - (1j/12)*b*(x2**4 - 4*x2*x1**3 + \n",
    "          3*x1**4) - (1j/30)*c*(x2**6 - 6*x2*x1**5 + 5*x1**6)) + \n",
    "          Dl**2*(-(atilde*(x2 - x1)**3)/6 - \n",
    "        (b*(x2**5 - 10*x2**2*x1**3 + 15*x2*x1**4 - 6*x1**5))/60 - \n",
    "        (c*(x2**7 - 21*x2**2*x1**5 + 35*x2*x1**6 - 15*x1**7))/210))\n",
    "\n",
    "    # In the other regions we compute the full analytic solution.\n",
    "    else:\n",
    "        return exp(1j*lb*(-x2 + x1))*((atilde*(-1j + 1j/exp(1j*Dl*(x2 - x1))))/Dl + \n",
    "                (b*(2*1j + 2*Dl*x2 - 1j*Dl**2*x2**2 + (1j*(-2 + (2*1j)*Dl*x1 + Dl**2*x1**2))/\n",
    "          exp(1j*Dl*(x2 - x1))))/Dl**3 - \n",
    "          (1j*c*(24 + Dl*x2*(-24*1j + Dl*x2*(-12 + Dl*x2*(4*1j + Dl*x2))) - \n",
    "             (24 + Dl*x1*(-24*1j + Dl*x1*(-12 + Dl*x1*(4*1j + Dl*x1))))/\n",
    "          exp(1j*Dl*(x2 - x1))))/Dl**5)"
   ]
  },
  {
   "cell_type": "markdown",
   "id": "a482be35",
   "metadata": {},
   "source": [
    "## Define PMNS matrices"
   ]
  },
  {
   "cell_type": "code",
   "execution_count": 19,
   "id": "39d9e6ca",
   "metadata": {},
   "outputs": [],
   "source": [
    "# These are the orthogonal/unitary matrices factorising the PMNS matrix, \n",
    "# U_{PMNS} = R_{23} \\Delta R_{13} \\Delta^* R_{12}\n",
    "def R23(th):\n",
    "    return np.matrix([\n",
    "        [1, 0, 0],\n",
    "        [0, cos(th), sin(th)],\n",
    "        [0, -sin(th), cos(th)]\n",
    "    ])\n",
    "\n",
    "def R13(th):\n",
    "    return np.matrix([\n",
    "        [cos(th), 0, sin(th)],\n",
    "        [0, 1, 0],\n",
    "        [-sin(th), 0, cos(th)]\n",
    "    ])\n",
    "\n",
    "def R12(th):\n",
    "    return np.matrix([\n",
    "        [cos(th), sin(th), 0],\n",
    "        [-sin(th), cos(th), 0],\n",
    "        [0, 0, 1]\n",
    "    ])\n",
    "\n",
    "def Delta(d):\n",
    "    return np.matrix([\n",
    "        [1, 0, 0],\n",
    "        [0, 1, 0],\n",
    "        [0, 0, exp(1j*d)]\n",
    "    ])"
   ]
  },
  {
   "cell_type": "code",
   "execution_count": 20,
   "id": "daa836c1",
   "metadata": {},
   "outputs": [],
   "source": [
    "def Upert (m1Sq, m2Sq, m3Sq, E, th12, th13, x2=1, x1=0, a=0, b=0, c=0):\n",
    "    \"\"\"Upert(m1Sq, m2Sq, m3Sq, E, th12, th13, x2=1, x1=0, a=0, b=0, c=0, order = 1) computes the evolutor\n",
    "    for an ultrarelativistic neutrino state in flavour basis, for a reduced mixing matrix U = R_{13} R_{12}\n",
    "    (the dependence on th_{23} and CP-violating phase \\delta_{CP} can be factorised) for a density profile \n",
    "    parametrised by a 4th degree even poliomial in the trajectory coordinate, to 1st order corrections around\n",
    "    the mean density value:\n",
    "    - miSq are the squared masses (or mass differences) in units of eV^2;\n",
    "    - E is the neutrino energy, in units of MeV;\n",
    "    - thij are the PMNS mixing angles;\n",
    "    - x1 (x2) is the starting (ending) point in the path;\n",
    "    - a, b, c parametrise the density profile on the path, n_e(x) = a + b x^2 + c x^4.\n",
    "See hep-ph/9702343 for the definition of the perturbative expansion of the evolutor in a 2-flavours case.\"\"\"\n",
    "    \n",
    "    # Kinetic terms of the Hamiltonian\n",
    "    [k1, k2, k3] = k(np.array([m1Sq, m2Sq, m3Sq]), E)\n",
    "    \n",
    "    # Average matter density along the path\n",
    "    naverage = (a * (x2 - x1) + b * (x2**3 - x1**3)/3 + c * (x2**5 - x1**5)/5) / (x2 - x1)\n",
    "    \n",
    "    # Matter potential for the 0th order evolutor\n",
    "    V = MatterPotential(naverage)\n",
    "    \n",
    "    # Parameter for the density perturbation around the mean density value: \n",
    "    # \\delta n_e(x) = atilde + b x^2 + c x^4\n",
    "    atilde = a - naverage\n",
    "    \n",
    "    # Travelled distance\n",
    "    L = (x2 - x1)\n",
    "\n",
    "    # Reduced mixing matrix U = R_{13} R_{12}\n",
    "    U = np.dot(R13(th13), R12(th12))\n",
    "    \n",
    "    # Hamiltonian in the reduced flavour basis\n",
    "    H = multi_dot([U, np.diag([k1, k2, k3]), U.transpose()]) + np.diag([V, 0, 0])\n",
    "    \n",
    "    # Traceless Hamiltonian T = H - Tr(H)/3\n",
    "    tr = np.sum([k1, k2, k3, V])\n",
    "    T = H - tr/3 * np.identity(3)\n",
    "\n",
    "    # Coefficients of the characteristic equation for T\n",
    "    c0_loc = c0(m1Sq, m2Sq, m3Sq, th12, th13, E, naverage)\n",
    "    c1_loc = c1(m1Sq, m2Sq, m3Sq, th12, th13, E, naverage)\n",
    "\n",
    "    # Roots of the characteristic equation for T\n",
    "    lam = lambdas(c0_loc, c1_loc)\n",
    "\n",
    "    # Matrices M_a, not depending on x\n",
    "    M = [(1 / (3*la**2 + c1_loc)) * \n",
    "                    ((la**2 + c1_loc) * np.identity(3) + la * T + np.dot(T,T)) for la in lam]\n",
    "\n",
    "    # 0th order evolutor (i.e. for constant matter density), following Eq. (46) in hep-ph/9910546\n",
    "    u0 = np.sum([exp(-1j * (lam[i] + tr/3) * L) * M[i] for i in range(len(lam))], 0)\n",
    "\n",
    "    # Compute correction to evolutor, taking into account 1st order terms in \\delta n_e(x)\n",
    "    if (b != 0) | (c != 0):\n",
    "        u1 = np.sum([multi_dot([M[idx_a], np.diag([-1j * MatterPotential(Iab(lam[idx_a] + tr/3, lam[idx_b] + tr/3, \n",
    "                                                                             atilde, b, c, x2, x1)), 0, 0]),\n",
    "                            M[idx_b]]) for idx_a in range(3) for idx_b in range(3)], 0)\n",
    "    # If density profile is constant the 1st order correction is identically zero\n",
    "    else:\n",
    "        u1 = 0\n",
    "\n",
    "    # Return the full evolutor\n",
    "    return u0 + u1"
   ]
  },
  {
   "cell_type": "markdown",
   "id": "d55c66a0",
   "metadata": {},
   "source": [
    "## Perform numerical tests and comparison with analytic solutions, for a path crossing a single shell"
   ]
  },
  {
   "cell_type": "code",
   "execution_count": 232,
   "id": "e62c8c18",
   "metadata": {},
   "outputs": [],
   "source": [
    "# Compute angles between list of complex vectors\n",
    "\n",
    "def angle(a, b):\n",
    "    angles = np.arccos(np.real(np.einsum('ij, ij->i', a.conjugate(), b))/(np.linalg.norm(a, axis=1)*np.linalg.norm(b, axis=1)))\n",
    "    \n",
    "    return angles "
   ]
  },
  {
   "cell_type": "code",
   "execution_count": 233,
   "id": "83b5847f",
   "metadata": {},
   "outputs": [],
   "source": [
    "from scipy.integrate import complex_ode\n",
    "import matplotlib.pyplot as plt"
   ]
  },
  {
   "cell_type": "code",
   "execution_count": 234,
   "id": "b401492e",
   "metadata": {},
   "outputs": [
    {
     "data": {
      "text/plain": [
       "matrix([[  879.27428272,   374.56596783,  4075.76601227],\n",
       "        [  374.56596783,   573.60175453,   -56.44729293],\n",
       "        [ 4075.76601227,   -56.44729293, 27295.6133134 ]])"
      ]
     },
     "execution_count": 234,
     "metadata": {},
     "output_type": "execute_result"
    }
   ],
   "source": [
    "from numpy.linalg import multi_dot\n",
    "\n",
    "DeltamSq21 = 7.42e-5\n",
    "DeltamSq31 = 2.514e-3\n",
    "E = np.random.uniform(1,20)\n",
    "[th12, th13, th23, d] = [0.583638, 0.149575, 0.855211, 3.40339]\n",
    "\n",
    "r13 = R13(th13)\n",
    "r12 = R12(th12)\n",
    "r23 = R23(th23)\n",
    "delta = Delta(d)\n",
    "\n",
    "pmns = multi_dot([r23, delta, r13, delta.conjugate(), r12])\n",
    "\n",
    "eta = 0\n",
    "U = np.dot(r13, r12)\n",
    "x1, x2 = 0, 0.192\n",
    "a, b, c = 6.099, -4.119, 0\n",
    "naverage = (a * (x2 - x1) + b * (x2**3 - x1**3)/3 + c * (x2**5 - x1**5)/5) / (x2 - x1)\n",
    "\n",
    "H0 = multi_dot([U, np.diag(k(np.array([0, DeltamSq21, DeltamSq31]), E)), U.transpose()]) + np.diag([MatterPotential(naverage), 0, 0])\n",
    "Hk = multi_dot([U, np.diag(k(np.array([0, DeltamSq21, DeltamSq31]), E)), U.transpose()])\n",
    "\n",
    "H0"
   ]
  },
  {
   "cell_type": "markdown",
   "id": "777c3de5",
   "metadata": {},
   "source": [
    "#### Numerical solution at 0th order"
   ]
  },
  {
   "cell_type": "code",
   "execution_count": 259,
   "id": "edddfa52",
   "metadata": {},
   "outputs": [
    {
     "name": "stdout",
     "output_type": "stream",
     "text": [
      "0.192 [-0.27017476-0.63072286j -0.23484952-0.56033381j -0.29180453-0.26912024j] True\n"
     ]
    }
   ],
   "source": [
    "def model(t, y):\n",
    "    nue, numu, nutau = y\n",
    "    dnudt = - 1j * np.dot(H0, [nue, numu, nutau])\n",
    "    return dnudt\n",
    "\n",
    "nu0 = (pmns.transpose()[1, :]).conjugate()\n",
    "\n",
    "nu = complex_ode(model)\n",
    "\n",
    "nu.set_integrator(\"Isoda\")\n",
    "nu.set_initial_value(nu0, 0)\n",
    "\n",
    "\n",
    "x = np.linspace(x1, x2, 10**3)\n",
    "sol = [nu.integrate(xi) for xi in x[1::]]\n",
    "sol.insert(0, np.array(nu0)[0])\n",
    "    \n",
    "#print(nu.t, nu.y, nu.successful())\n",
    "\n",
    "Zero_num = sol[-1]\n",
    "print(x[-1], Zero_num, nu.successful())\n",
    "Zero_num = np.array([Zero_num])"
   ]
  },
  {
   "cell_type": "markdown",
   "id": "a2ba53d5",
   "metadata": {},
   "source": [
    "#### Analitical solution at 0th order"
   ]
  },
  {
   "cell_type": "code",
   "execution_count": 261,
   "id": "1ff21977",
   "metadata": {},
   "outputs": [
    {
     "data": {
      "text/plain": [
       "array([[-0.27028176-0.63113894j, -0.23484952-0.56033381j,\n",
       "        -0.29251419-0.27187972j]])"
      ]
     },
     "execution_count": 261,
     "metadata": {},
     "output_type": "execute_result"
    }
   ],
   "source": [
    "Zero_an = np.dot(Upert(0, DeltamSq21, DeltamSq31, E, th12, th13, x2, x1, naverage, b=0, c=0), nu0.transpose()).transpose()\n",
    "Zero_an = np.array(Zero_an)\n",
    "Zero_an"
   ]
  },
  {
   "cell_type": "markdown",
   "id": "59eed7d3",
   "metadata": {},
   "source": [
    "#### Norm of the difference between numerical and analytical solutions"
   ]
  },
  {
   "cell_type": "code",
   "execution_count": 262,
   "id": "54b4c689",
   "metadata": {},
   "outputs": [
    {
     "data": {
      "text/plain": [
       "0.0028814708897193994"
      ]
     },
     "execution_count": 262,
     "metadata": {},
     "output_type": "execute_result"
    }
   ],
   "source": [
    "np.linalg.norm(Zero_num - Zero_an)"
   ]
  },
  {
   "cell_type": "code",
   "execution_count": 263,
   "id": "1f0a163d",
   "metadata": {},
   "outputs": [
    {
     "data": {
      "text/plain": [
       "0.0008275342383508256"
      ]
     },
     "execution_count": 263,
     "metadata": {},
     "output_type": "execute_result"
    }
   ],
   "source": [
    "angle(Zero_num, Zero_an)[0]/pi"
   ]
  },
  {
   "cell_type": "markdown",
   "id": "1bd584cd",
   "metadata": {},
   "source": [
    "##### Plot the numerical solution"
   ]
  },
  {
   "cell_type": "code",
   "execution_count": 264,
   "id": "51c36ef4",
   "metadata": {},
   "outputs": [
    {
     "data": {
      "image/png": "[encoded data removed]",
      "text/plain": [
       "<Figure size 432x288 with 1 Axes>"
      ]
     },
     "metadata": {
      "needs_background": "light"
     },
     "output_type": "display_data"
    }
   ],
   "source": [
    "probs = np.square(np.abs(sol))\n",
    "\n",
    "plt.xlabel(\"Trajectory coordinate\")\n",
    "plt.ylabel(\"Probability\")\n",
    "plt.title(\"Energy = %.2f MeV, nadir $\\eta$ = %.2f $\\pi$\" % (E, eta/pi))\n",
    "plt.plot(x, probs, label=[\"$\\\\nu_e$\", \"$\\\\nu_\\mu$\", \"$\\\\nu_\\\\tau$\"])\n",
    "plt.legend()\n",
    "\n",
    "plt.show()"
   ]
  },
  {
   "cell_type": "markdown",
   "id": "1cc19a16",
   "metadata": {},
   "source": [
    "#### Full numerical solution"
   ]
  },
  {
   "cell_type": "code",
   "execution_count": 266,
   "id": "8a71ad25",
   "metadata": {},
   "outputs": [
    {
     "name": "stdout",
     "output_type": "stream",
     "text": [
      "0.192 [-0.2701432 -0.63062357j -0.23489699-0.56045411j -0.29193503-0.2692366j ] True\n"
     ]
    }
   ],
   "source": [
    "def model(t, y):\n",
    "    nue, numu, nutau = y\n",
    "    dnudt = - 1j * np.dot(Hk + np.diag([MatterPotential(EarthDensity(t)),0,0]), [nue, numu, nutau])\n",
    "    return dnudt\n",
    "\n",
    "nu0 = (pmns.transpose()[1, :]).conjugate()\n",
    "\n",
    "nu = complex_ode(model)\n",
    "\n",
    "nu.set_integrator(\"Isoda\")\n",
    "nu.set_initial_value(nu0, 0)\n",
    "\n",
    "\n",
    "x = np.linspace(x1, x2,10**3)\n",
    "sol = [nu.integrate(xi) for xi in x[1::]]\n",
    "sol.insert(0, np.array(nu0)[0])\n",
    "\n",
    "One_num = sol[-1]\n",
    "print(x[-1], One_num, nu.successful() )\n",
    "One_num = np.array([One_num])"
   ]
  },
  {
   "cell_type": "markdown",
   "id": "5ccba5dd",
   "metadata": {},
   "source": [
    "#### Analytic solution at 1st order"
   ]
  },
  {
   "cell_type": "code",
   "execution_count": 270,
   "id": "429cf8c7",
   "metadata": {},
   "outputs": [
    {
     "data": {
      "text/plain": [
       "array([[-0.27023154-0.63102483j, -0.23489655-0.56045431j,\n",
       "        -0.29252177-0.27189741j]])"
      ]
     },
     "execution_count": 270,
     "metadata": {},
     "output_type": "execute_result"
    }
   ],
   "source": [
    "One_an = np.dot(Upert(0, DeltamSq21, DeltamSq31, E, th12, th13, x2, x1, a, b, c), nu0.transpose()).transpose()\n",
    "One_an = np.array(One_an)\n",
    "One_an"
   ]
  },
  {
   "cell_type": "markdown",
   "id": "f9f21195",
   "metadata": {},
   "source": [
    "#### Check differences between numerical, 0th and 1st analytic solutions"
   ]
  },
  {
   "cell_type": "code",
   "execution_count": 271,
   "id": "438fd5f8",
   "metadata": {},
   "outputs": [
    {
     "name": "stdout",
     "output_type": "stream",
     "text": [
      "[0.0028814708897193994, 0.0027609808567514798, 0.002755536763394985] True\n"
     ]
    }
   ],
   "source": [
    "err = [np.linalg.norm(Zero_num - Zero_an), \n",
    " np.linalg.norm(One_num - Zero_an),\n",
    " np.linalg.norm(One_num - One_an)]\n",
    "\n",
    "print(err, err[2]<err[1])"
   ]
  },
  {
   "cell_type": "code",
   "execution_count": 282,
   "id": "69adc09d",
   "metadata": {},
   "outputs": [
    {
     "name": "stdout",
     "output_type": "stream",
     "text": [
      "[0.0008275342383508256, 0.4012378993954446, 9.538675159860414e-05] True\n"
     ]
    }
   ],
   "source": [
    "err = [angle(Zero_num , Zero_an)[0]/pi, \n",
    " angle(One_num , Zero_an)[0]/pi,\n",
    " angle(One_num , One_an)[0]/pi]\n",
    "\n",
    "print(err, err[2]<err[1])"
   ]
  },
  {
   "cell_type": "markdown",
   "id": "ba2781c4",
   "metadata": {},
   "source": [
    "##### Plot the numerical solution"
   ]
  },
  {
   "cell_type": "code",
   "execution_count": 274,
   "id": "b3c3dbf8",
   "metadata": {},
   "outputs": [
    {
     "data": {
      "image/png": "[encoded data removed]",
      "text/plain": [
       "<Figure size 432x288 with 1 Axes>"
      ]
     },
     "metadata": {
      "needs_background": "light"
     },
     "output_type": "display_data"
    }
   ],
   "source": [
    "probs = np.square(np.abs(sol))\n",
    "\n",
    "plt.xlabel(\"Trajectory coordinate\")\n",
    "plt.ylabel(\"Probability\")\n",
    "plt.title(\"Energy = %.2f MeV, nadir $\\eta$ = %.2f $\\pi$\" % (E, eta/pi))\n",
    "plt.plot(x, probs, label=[\"$\\\\nu_e$\", \"$\\\\nu_\\mu$\", \"$\\\\nu_\\\\tau$\"])\n",
    "plt.legend()\n",
    "\n",
    "plt.show()"
   ]
  },
  {
   "cell_type": "markdown",
   "id": "d51c8cfd",
   "metadata": {},
   "source": [
    "# Path crossing multiple shells"
   ]
  },
  {
   "cell_type": "code",
   "execution_count": 275,
   "id": "d0fdd842",
   "metadata": {},
   "outputs": [],
   "source": [
    "def FullEvolutor (m1Sq, m2Sq, m3Sq, E, th12, th13, th23, d, eta, H):\n",
    "    \"\"\"FullEvolutor(m1Sq, m2Sq, m3Sq, E, th12, th13, eta, H) computes the full evolutor for an ultrarelativistic\n",
    "    neutrino crossing the Earth:\n",
    "    - miSq are the squared masses (or mass differences) in units of eV^2;\n",
    "    - E is the neutrino energy, in units of MeV;\n",
    "    - thij are the PMNS mixing angles;\n",
    "    - d is the CP-violating PMNS phase;\n",
    "    - eta is the nadir angle;\n",
    "    - H is the underground detector depth, in units of meters.\"\"\"\n",
    "    \n",
    "    # Detector depth normalised to Earth radius\n",
    "    h = H/R_E\n",
    "    \n",
    "    # Position of the detector along the trajectory coordinate\n",
    "    r_d = 1 - h # This is valid for eta = 0\n",
    "    x_d = sqrt(r_d**2 - sin(eta)**2) # For generic values of eta\n",
    "    \n",
    "    # Compute the factorised matrices R_{23} and \\Delta \n",
    "    # (remember that U_{PMNS} = R_{23} \\Delta R_{13} \\Delta^* R_{12})\n",
    "    r23= R23(th23)\n",
    "    delta = Delta(d)\n",
    "    \n",
    "    # If 0 <= eta < pi/2 we compute the evolutor taking care of matter density perturbation around the\n",
    "    # density mean value at first order\n",
    "    if 0 <= eta < pi/2:\n",
    "        # params is a list of lists, each element [[a, b, c], x_i] contains the parameters of the density \n",
    "        # profile n_e(x) = a + b x^2 + c x^4 along the crossed shell, with each shell ending at x == x_i\n",
    "        params = EarthDensity(eta=eta, parameters=True)\n",
    "\n",
    "        # Compute the evolutors for the path from Earth entry point to trajectory mid-point at x == 0\n",
    "        evolutors_full_path = [Upert(m1Sq, m2Sq, m3Sq, E, th12, th13, params[i][1], params[i-1][1] if i > 0 else 0, \n",
    "                           params[i][0][0], params[i][0][1], params[i][0][2]) for i in reversed(range(len(params)))]\n",
    "\n",
    "        # Multiply the single evolutors\n",
    "        evolutor_half_full = multi_dot(evolutors_full_path) if len(evolutors_full_path) > 1 else evolutors_full_path[0]\n",
    "        \n",
    "        \n",
    "        # Compute the evolutors for the path from the trajectory mid-point at x == 0 to the detector point x_d\n",
    "        # Only the evolutor for the most external shell needs to be computed\n",
    "        evolutors_to_detectors = evolutors_full_path.copy()\n",
    "        evolutors_to_detectors[0] = Upert(m1Sq, m2Sq, m3Sq, E, th12, th13, x_d, params[-2][1] if len(params) > 1 else 0, \n",
    "                           params[-1][0][0], params[-1][0][1], params[-1][0][2])\n",
    "\n",
    "        # Multiply the single evolutors\n",
    "        evolutor_half_detector = multi_dot(evolutors_to_detectors) if len(evolutors_to_detectors) > 1 else evolutors_to_detectors[0]\n",
    "\n",
    "        # Combine the two half-paths evolutors and include the factorised dependence on th23 and d to\n",
    "        # obtain the full evolutor\n",
    "        evolutor = multi_dot([r23, delta.conjugate(), evolutor_half_detector, evolutor_half_full.transpose(), \n",
    "                              delta, r23.transpose()])\n",
    "        return evolutor\n",
    "\n",
    "    # If pi/2 <= eta <= pi we approximate the density to the constant value taken at r = 1 - h/2\n",
    "    elif pi/2 <= eta <= pi:\n",
    "        n_1 = EarthDensity(x = 1 - h / 2)\n",
    "\n",
    "        # Deltax is the lenght of the crossed path\n",
    "        Deltax = r_d * cos(eta) + sqrt(1 - r_d**2 * sin(eta)**2)\n",
    "\n",
    "        # Compute the evolutor for constant density n_1 and traveled distance Deltax,\n",
    "        # and include the factorised dependence on th23 and d to obtain the full evolutor\n",
    "        evolutor = multi_dot([r23, delta.conjugate(), \n",
    "                              Upert(m1Sq, m2Sq, m3Sq, E, th12, th13, Deltax, 0, n_1, 0, 0), \n",
    "                              delta, r23.transpose()])\n",
    "        return evolutor\n",
    "\n",
    "    else:\n",
    "        raise ValueError('eta must be comprised between 0 and pi.')"
   ]
  },
  {
   "cell_type": "code",
   "execution_count": 276,
   "id": "577352a9",
   "metadata": {},
   "outputs": [
    {
     "name": "stdout",
     "output_type": "stream",
     "text": [
      "0.9996860775388479 [ 0.11531134-0.52404578j  0.4984021 +0.05589331j -0.66270704+0.14618871j] True\n"
     ]
    },
    {
     "name": "stderr",
     "output_type": "stream",
     "text": [
      "/opt/anaconda3/lib/python3.8/site-packages/scipy/integrate/_ode.py:389: UserWarning: No integrator name match with 'Isoda' or is not available.\n",
      "  warnings.warn('No integrator name match with %r or is not '\n"
     ]
    }
   ],
   "source": [
    "r23= R23(th23)\n",
    "delta = Delta(d)\n",
    "\n",
    "eta = np.random.uniform(0, pi)\n",
    "E = np.random.uniform(1,20)\n",
    "\n",
    "eta = 0\n",
    "E = 20e3\n",
    "\n",
    "Hk = multi_dot([U, np.diag(k(np.array([0, DeltamSq21, DeltamSq31]), E)), U.transpose()])\n",
    "\n",
    "H = 2e3 # meters\n",
    "h = H/R_E\n",
    "r_d = 1 - h\n",
    "x_d = sqrt(r_d**2 - sin(eta)**2)\n",
    "Deltax = r_d * cos(eta) + sqrt(1 - r_d**2 * sin(eta)**2)\n",
    "n_1 = EarthDensity(x=1)\n",
    "\n",
    "params = EarthDensity(eta=eta, parameters=True)\n",
    "x1, x2 = (-params[-1][1], x_d) if 0 <= eta < pi/2 else (0, Deltax)\n",
    "\n",
    "def model(t, y):\n",
    "    nue, numu, nutau = y\n",
    "    dnudt = - 1j * np.dot(multi_dot([r23, delta.conjugate(), Hk + np.diag([\n",
    "        MatterPotential(EarthDensity(t, eta=eta)) if 0 <= eta < pi/2 else n_1\n",
    "        ,0,0]), delta, r23.transpose()]), [nue, numu, nutau])\n",
    "    return dnudt\n",
    "\n",
    "nu0 = (pmns.transpose()[1, :]).conjugate()\n",
    "\n",
    "nu = complex_ode(model)\n",
    "\n",
    "nu.set_integrator(\"Isoda\")\n",
    "nu.set_initial_value(nu0, x1)\n",
    "\n",
    "\n",
    "x = np.linspace(x1, x2, 10**3)\n",
    "sol = [nu.integrate(xi) for xi in x[1::]]\n",
    "sol.insert(0, np.array(nu0)[0])\n",
    "\n",
    "One_num = sol[-1]\n",
    "print(x[-1], One_num, nu.successful() )\n",
    "One_num = np.array([One_num])"
   ]
  },
  {
   "cell_type": "code",
   "execution_count": 278,
   "id": "9265f66c",
   "metadata": {},
   "outputs": [
    {
     "data": {
      "text/plain": [
       "array([[ 0.11502417-0.52412961j,  0.49841879+0.05590422j,\n",
       "        -0.66269743+0.14619113j]])"
      ]
     },
     "execution_count": 278,
     "metadata": {},
     "output_type": "execute_result"
    }
   ],
   "source": [
    "One_an = np.dot(FullEvolutor(0, DeltamSq21, DeltamSq31, E, th12, th13, th23, d, eta, H), nu0.transpose()).transpose()\n",
    "One_an = np.array(One_an)\n",
    "One_an"
   ]
  },
  {
   "cell_type": "code",
   "execution_count": 279,
   "id": "b421aa28",
   "metadata": {},
   "outputs": [
    {
     "data": {
      "text/plain": [
       "0.000149991452339934"
      ]
     },
     "execution_count": 279,
     "metadata": {},
     "output_type": "execute_result"
    }
   ],
   "source": [
    "np.linalg.norm(One_num - One_an)/np.linalg.norm(One_num + One_an)"
   ]
  },
  {
   "cell_type": "code",
   "execution_count": 281,
   "id": "6166fb67",
   "metadata": {},
   "outputs": [
    {
     "data": {
      "text/plain": [
       "9.538675159860414e-05"
      ]
     },
     "execution_count": 281,
     "metadata": {},
     "output_type": "execute_result"
    }
   ],
   "source": [
    "angle(One_an, One_num)[0]/pi"
   ]
  },
  {
   "cell_type": "code",
   "execution_count": 114,
   "id": "eac0f938",
   "metadata": {},
   "outputs": [
    {
     "data": {
      "image/png": "[encoded data removed]",
      "text/plain": [
       "<Figure size 432x288 with 1 Axes>"
      ]
     },
     "metadata": {
      "needs_background": "light"
     },
     "output_type": "display_data"
    }
   ],
   "source": [
    "probs = np.square(np.abs(sol))\n",
    "\n",
    "plt.xlabel(\"Trajectory coordinate\")\n",
    "plt.ylabel(\"Probability\")\n",
    "plt.title(\"Energy = %.2f MeV, nadir $\\eta$ = %.2f $\\pi$\" % (E, eta/pi))\n",
    "plt.plot(x, probs, label=[\"$\\\\nu_e$\", \"$\\\\nu_\\mu$\", \"$\\\\nu_\\\\tau$\"])\n",
    "plt.legend()\n",
    "\n",
    "plt.show()"
   ]
  },
  {
   "cell_type": "markdown",
   "id": "f470c00b",
   "metadata": {},
   "source": [
    "# Check errors different values of E and eta"
   ]
  },
  {
   "cell_type": "code",
   "execution_count": 39,
   "id": "2974b9e7",
   "metadata": {},
   "outputs": [],
   "source": [
    "r23 = R23(th23)\n",
    "delta = Delta(d)\n",
    "\n",
    "eta = 0\n",
    "\n",
    "x1, x2 = -1, 1\n",
    "\n",
    "def numerical(E):\n",
    "    Hk = multi_dot([U, np.diag(k(np.array([0, DeltamSq21, DeltamSq31]), E)), U.transpose()])\n",
    "\n",
    "    def model(t, y):\n",
    "        nue, numu, nutau = y\n",
    "        dnudt = - 1j * np.dot(multi_dot([r23, delta.conjugate(), Hk + np.diag([\n",
    "            MatterPotential(EarthDensity(t, eta=eta)) if 0 <= eta < pi/2 else n_1\n",
    "            ,0,0]), delta, r23.transpose()]), [nue, numu, nutau])\n",
    "        return dnudt\n",
    "\n",
    "    nu0 = (pmns.transpose()[1, :]).conjugate()\n",
    "\n",
    "    nu = complex_ode(model)\n",
    "\n",
    "    nu.set_integrator(\"Isoda\")\n",
    "    nu.set_initial_value(nu0, x1)\n",
    "\n",
    "\n",
    "    x = np.linspace(x1, x2, 10**3)\n",
    "    sol = [nu.integrate(xi) for xi in x[1::]]\n",
    "    sol.insert(0, np.array(nu0)[0])\n",
    "\n",
    "    One_num = sol[-1]\n",
    "\n",
    "    if nu.successful():\n",
    "        return np.array(One_num)\n",
    "    else:\n",
    "        raise Exception(\"Integration non successful for energy E = %.2f\" % E)\n",
    "        return np.nan\n",
    "    \n",
    "def compactU(E):\n",
    "    return np.array(np.dot(FullEvolutor(0, DeltamSq21, DeltamSq31, E, th12, th13, th23, d, 0, 0), nu0.transpose()).transpose())"
   ]
  },
  {
   "cell_type": "code",
   "execution_count": 283,
   "id": "05c36888",
   "metadata": {},
   "outputs": [],
   "source": [
    "x_log = np.linspace(np.log10(2), 6, 10**3)\n",
    "x = np.power(10, x_log)\n",
    "\n",
    "state_an = np.array([compactU(E)[0] for E in x])"
   ]
  },
  {
   "cell_type": "code",
   "execution_count": 46,
   "id": "73d96d97",
   "metadata": {},
   "outputs": [],
   "source": [
    "# state_num = np.array([numerical(E) for E in x])"
   ]
  },
  {
   "cell_type": "code",
   "execution_count": 284,
   "id": "05a22c5b",
   "metadata": {},
   "outputs": [],
   "source": [
    "err = angle(state_an, state_num)"
   ]
  },
  {
   "cell_type": "code",
   "execution_count": 285,
   "id": "59a36de6",
   "metadata": {},
   "outputs": [
    {
     "data": {
      "image/png": "[encoded data removed]",
      "text/plain": [
       "<Figure size 432x288 with 1 Axes>"
      ]
     },
     "metadata": {
      "needs_background": "light"
     },
     "output_type": "display_data"
    }
   ],
   "source": [
    "plt.plot(x, err/pi)\n",
    "\n",
    "plt.yscale(\"log\")\n",
    "plt.xscale(\"log\")\n",
    "\n",
    "plt.xlabel(\"Energy [MeV]\")\n",
    "plt.ylabel(\"Relative error\")\n",
    "\n",
    "plt.title(\"Relative error between numerical and analytic computations\")\n",
    "plt.savefig(plots_folder + \"error.pdf\")\n",
    "\n",
    "plt.show()"
   ]
  },
  {
   "cell_type": "code",
   "execution_count": 290,
   "id": "ac85f5d8",
   "metadata": {},
   "outputs": [],
   "source": [
    "x_log2 = np.linspace(np.log10(1e2), np.log10(1e5), 10**3)\n",
    "x2 = np.power(10, x_log2)\n",
    "\n",
    "state_an2 = np.array([compactU(E)[0] for E in x2])"
   ]
  },
  {
   "cell_type": "code",
   "execution_count": null,
   "id": "73d96d97",
   "metadata": {},
   "outputs": [
    {
     "name": "stderr",
     "output_type": "stream",
     "text": [
      "/opt/anaconda3/lib/python3.8/site-packages/scipy/integrate/_ode.py:389: UserWarning: No integrator name match with 'Isoda' or is not available.\n",
      "  warnings.warn('No integrator name match with %r or is not '\n"
     ]
    }
   ],
   "source": [
    "state_num2 = np.array([numerical(E) for E in x2])"
   ]
  },
  {
   "cell_type": "code",
   "execution_count": null,
   "id": "f3d56cdb",
   "metadata": {},
   "outputs": [],
   "source": [
    "err2 = angle(state_an2, state_num2)"
   ]
  },
  {
   "cell_type": "code",
   "execution_count": null,
   "id": "2388bb14",
   "metadata": {},
   "outputs": [],
   "source": [
    "plt.plot(x2, err2)\n",
    "\n",
    "plt.yscale(\"log\")\n",
    "plt.xscale(\"log\")\n",
    "\n",
    "plt.xlabel(\"Energy [MeV]\")\n",
    "plt.ylabel(\"Relative error\")\n",
    "\n",
    "plt.title(\"Relative error between numerical and analytic computations\")\n",
    "#plt.savefig(plots_folder + \"error.pdf\")\n",
    "\n",
    "plt.show()"
   ]
  },
  {
   "cell_type": "markdown",
   "id": "e10b9284",
   "metadata": {},
   "source": [
    "# Not used anymore"
   ]
  },
  {
   "cell_type": "code",
   "execution_count": null,
   "id": "22c2e4ce",
   "metadata": {},
   "outputs": [],
   "source": [
    "# from math import pi, sqrt, sin, cos\n",
    "\n",
    "# H = 2e3\n",
    "# h = H/R_E\n",
    "# r_d = 1 - h\n",
    "\n",
    "# eta = np.random.uniform(pi/2, pi)\n",
    "# E = np.random.uniform(1,20)\n",
    "\n",
    "# Hk = multi_dot([U, np.diag(k(np.array([0, DeltamSq21, DeltamSq31]), E)), U.transpose()])\n",
    "\n",
    "# x_d = sqrt(r_d**2 - sin(eta)**2)\n",
    "\n",
    "# if 0 <= eta < pi/2:\n",
    "#     params = EarthDensity(eta=eta, parameters=True)\n",
    "\n",
    "#     evolutors_full_path = [Upert(0, DeltamSq21, DeltamSq31, E, th12, th13, params[i][1], params[i-1][1] if i > 0 else 0, \n",
    "#                        params[i][0][0], params[i][0][1], params[i][0][2]) for i in reversed(range(len(params)))]\n",
    "\n",
    "#     evolutors_to_detectors = evolutors_full_path.copy()\n",
    "#     evolutors_to_detectors[0] = Upert(0, DeltamSq21, DeltamSq31, E, th12, th13, x_d, params[-2][1] if len(params) > 1 else 0, \n",
    "#                        params[-1][0][0], params[-1][0][1], params[-1][0][2])\n",
    "\n",
    "#     evolutor_half_full = multi_dot(evolutors_full_path) if len(evolutors_full_path) > 1 else evolutors_full_path[0]\n",
    "#     evolutor_half_detector = multi_dot(evolutors_to_detectors) if len(evolutors_to_detectors) > 1 else evolutors_to_detectors[0]\n",
    "\n",
    "#     evolutor = np.dot(evolutor_half_detector, evolutor_half_full.transpose())\n",
    "    \n",
    "# elif pi/2 <= eta <= pi:\n",
    "#     n_1 = EarthDensity(x=1)\n",
    "\n",
    "#     Deltax = r_d * cos(eta) + sqrt(1 - r_d**2 * sin(eta)**2)\n",
    "    \n",
    "#     evolutor = Upert(0, DeltamSq21, DeltamSq31, E, th12, th13, Deltax, 0, n_1, 0, 0)\n",
    "    \n",
    "# else:\n",
    "#     raise ValueError('eta must be comprised between 0 and pi.')"
   ]
  },
  {
   "cell_type": "code",
   "execution_count": null,
   "id": "e1f0230d",
   "metadata": {},
   "outputs": [],
   "source": [
    "# # Works for eta=0, check for different values\n",
    "\n",
    "# DeltamSq21 = 7.42e-5\n",
    "# DeltamSq31 = 2.514e-3\n",
    "# E = 10\n",
    "# [th12, th13, th23, d] = [0.583638, 0.149575, 0.855211, 3.40339]\n",
    "# eta = 0\n",
    "\n",
    "# from math import sin, cos\n",
    "# from cmath import exp\n",
    "# from scipy.linalg import expm\n",
    "# from numpy.linalg import multi_dot\n",
    "\n",
    "# R_E = 6.371e6 # meters\n",
    "\n",
    "# def R23(th):\n",
    "#     return np.matrix([\n",
    "#         [1, 0, 0],\n",
    "#         [0, cos(th), sin(th)],\n",
    "#         [0, -sin(th), cos(th)]\n",
    "#     ])\n",
    "\n",
    "# def R13(th):\n",
    "#     return np.matrix([\n",
    "#         [cos(th), 0, sin(th)],\n",
    "#         [0, 1, 0],\n",
    "#         [-sin(th), 0, cos(th)]\n",
    "#     ])\n",
    "\n",
    "# def R12(th):\n",
    "#     return np.matrix([\n",
    "#         [cos(th), sin(th), 0],\n",
    "#         [-sin(th), cos(th), 0],\n",
    "#         [0, 0, 1]\n",
    "#     ])\n",
    "\n",
    "# def Delta(d):\n",
    "#     return np.matrix([\n",
    "#         [1, 0, 0],\n",
    "#         [0, 1, 0],\n",
    "#         [0, 0, exp(1j*d)]\n",
    "#     ])\n",
    "\n",
    "\n",
    "# [k1, k2, k3] = 2.533 * np.array([0, DeltamSq21, DeltamSq31]) / E\n",
    "\n",
    "# r13 = R13(th13)\n",
    "# r12 = R12(th12)\n",
    "# r23 = R23(th23)\n",
    "# delta = Delta(d)\n",
    "\n",
    "# pmns = multi_dot([r23, delta, r13, delta.conjugate(), r12])\n",
    "\n",
    "# k = np.matrix(np.diag([k1, k2, k3]))\n",
    "\n",
    "# H0 = r13 * r12 * k * r12.transpose() * r13.transpose()\n",
    "\n",
    "# H2_12 = (k2 - k1) * cos(th12) * cos(th13) * sin(th12)\n",
    "# H2_13 = sin(th13) * cos(th13) * ((k2 - k1) * (2 * cos(th12)**2 - 1) + 2 * k3 - k1 - k2) / 2\n",
    "# H2 = np.array([\n",
    "#     [0, H2_12, H2_13],\n",
    "#     [-H2_12, 0, 0],\n",
    "#     [-H2_13, 0, 0]\n",
    "# ])\n",
    "\n",
    "# ME_density = EarthDensity(eta=eta, integrated=True)\n",
    "\n",
    "# # Need to understand if R_E or R_E^2 in ME2!\n",
    "# ME1 = [- 1j * R_E * (H0 * ME_density[0][shell] + np.diag([3.868e-7 * (ME_density[1][shell]), 0, 0]) ) for shell in range(len(ME_density[0]))]\n",
    "# ME2 = [- np.matrix(R_E**2 * H2 * 3.868e-7 * (ME_density[2][shell]) / 2) for shell in range(len(ME_density[0]))]\n",
    "\n",
    "# ME12 = [expm(ME1[i] + ME2[i]) for i in reversed(range(len(ME1)))]\n",
    "\n",
    "# evolutor_half = multi_dot(ME12) if len(ME12) > 1 else ME12[0]\n",
    "\n",
    "# evolutor = multi_dot([r23, delta.conjugate(), evolutor_half, evolutor_half.transpose(), delta, r23.transpose()])\n",
    "\n",
    "# probabilities = np.square(np.abs(evolutor * pmns[:,1].conjugate()))\n",
    "\n",
    "# probabilities"
   ]
  }
 ],
 "metadata": {
  "kernelspec": {
   "display_name": "Python 3 (ipykernel)",
   "language": "python",
   "name": "python3"
  },
  "language_info": {
   "codemirror_mode": {
    "name": "ipython",
    "version": 3
   },
   "file_extension": ".py",
   "mimetype": "text/x-python",
   "name": "python",
   "nbconvert_exporter": "python",
   "pygments_lexer": "ipython3",
   "version": "3.8.12"
  }
 },
 "nbformat": 4,
 "nbformat_minor": 5
}
